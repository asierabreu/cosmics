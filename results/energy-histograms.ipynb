{
 "cells": [
  {
   "cell_type": "code",
   "execution_count": 1,
   "metadata": {
    "collapsed": true
   },
   "outputs": [],
   "source": [
    "import numpy as np\n",
    "# Set up matplotlib and use a nicer set of plot parameters\n",
    "%config InlineBackend.rc = {}\n",
    "import matplotlib\n",
    "matplotlib.rc_file(\"../templates/matplotlibrc\")\n",
    "import matplotlib.pyplot as plt\n",
    "%matplotlib inline\n",
    "from matplotlib.colors import LogNorm"
   ]
  },
  {
   "cell_type": "code",
   "execution_count": 2,
   "metadata": {
    "collapsed": true
   },
   "outputs": [],
   "source": [
    "import os\n",
    "import sys\n",
    "\n",
    "sys.path.append(\"../lib/TrackObs/\")\n",
    "sys.path.append(\"../lib/CosmicObservation/\")\n",
    "\n",
    "from CosmicObservation import *\n",
    "from external_flux import *\n",
    "from astropy.io import fits\n",
    "\n",
    "import glob\n",
    "import re"
   ]
  },
  {
   "cell_type": "code",
   "execution_count": 3,
   "metadata": {
    "collapsed": true
   },
   "outputs": [],
   "source": [
    "getobmt = lambda x: int(re.search(\"(?<=OBMT_START_)[0-9]+\",x).group(0))"
   ]
  },
  {
   "cell_type": "markdown",
   "metadata": {},
   "source": [
    "# Get the paths"
   ]
  },
  {
   "cell_type": "code",
   "execution_count": 12,
   "metadata": {
    "collapsed": true
   },
   "outputs": [],
   "source": [
    "# get all paths\n",
    "smpaths = glob.glob(\"../output/CosmicObservations/*/*/*/SM-SIF_OBMT_START_*.fits\")\n",
    "smpaths.sort(key = getobmt)\n",
    "\n",
    "bamobspaths = glob.glob(\"../output/CosmicObservations/*/*/*/BAM-OBS*_OBMT_START_*.fits\")\n",
    "bamobspaths.sort(key = getobmt)\n",
    "\n",
    "bamsifpaths = glob.glob(\"../output/CosmicObservations/*/*/*/BAM-SIF_OBMT_START_*.fits\")\n",
    "bamsifpaths.sort(key = getobmt)"
   ]
  },
  {
   "cell_type": "code",
   "execution_count": 13,
   "metadata": {
    "collapsed": true
   },
   "outputs": [],
   "source": [
    "def psel_rev(allpaths,start,stop):\n",
    "    pathtimes_rev = np.array([getobmt(p) for p in allpaths])/(1e9*3600*6)\n",
    "    indices = np.where(np.logical_and(pathtimes_rev>=start, pathtimes_rev<=stop))[0]\n",
    "    return [allpaths[ii] for ii in indices]\n",
    "\n",
    "\n",
    "def psel_mjd(allpaths,start,stop):\n",
    "    pathtimes_mjd = OBMT_apyTime(np.array([getobmt(p) for p in allpaths])).mjd\n",
    "    indices = np.where(np.logical_and(pathtimes_mjd>=start, pathtimes_mjd<=stop))[0]\n",
    "    return [allpaths[ii] for ii in indices]"
   ]
  },
  {
   "cell_type": "markdown",
   "metadata": {},
   "source": [
    "# Energy histograms"
   ]
  },
  {
   "cell_type": "code",
   "execution_count": 15,
   "metadata": {
    "collapsed": true
   },
   "outputs": [],
   "source": [
    "def CosObs_get_energies(filenames,edgeless=False,row=-1,fov=-1):\n",
    "    \"\"\"Return a dictionary \n",
    "        En: [list of list of energies per observation]\n",
    "        flux: [list of flux per observation]\n",
    "    \"\"\"\n",
    "    \n",
    "    # Create output dict\n",
    "    outdict = {'EN':[], 'FLUX':[]}\n",
    "    \n",
    "    # if the input is not a list, it has to be a single filename\n",
    "    if type(filenames) != type([]):\n",
    "        filenames = [filenames]\n",
    "    \n",
    "    for filename in filenames:\n",
    "        # Open the file\n",
    "        hdulist = fits.open(filename)\n",
    "        \n",
    "        # Iterate over all the CosmicObservations\n",
    "        for ii in range(1,len(hdulist),1):\n",
    "            head = hdulist[ii].header\n",
    "            \n",
    "            # filter if necessary\n",
    "            if fov > 0:\n",
    "                if head[\"FOV\"] != fov: continue\n",
    "            if row > 0:\n",
    "                if head[\"CCD_ROW\"] != row: continue\n",
    "                    \n",
    "            # write flux\n",
    "            outdict['FLUX'].append(head[\"FLUX\"])\n",
    "            \n",
    "            if edgeless:\n",
    "                edgecosmics = hdulist[ii].data[\"TRACK_TRUNCATED\"]\n",
    "                # write energies and rejected\n",
    "                outdict['EN'].append( list((hdulist[ii].data[\"TRACK_EN\"])[np.logical_not(edgecosmics)]) )\n",
    "            else:\n",
    "                # write energies and rejected\n",
    "                outdict['EN'].append( list(hdulist[ii].data[\"TRACK_EN\"]) )\n",
    "\n",
    "        # Close the file\n",
    "        hdulist.close()\n",
    "    return outdict"
   ]
  },
  {
   "cell_type": "code",
   "execution_count": 16,
   "metadata": {
    "collapsed": true
   },
   "outputs": [],
   "source": [
    "bamobs_dat = CosObs_get_energies(bamobspaths[0:2],fov=1,edgeless=True)\n",
    "sm_dat = CosObs_get_energies(smpaths[:10],edgeless=True)\n",
    "bamsif_dat = CosObs_get_energies(bamsifpaths,edgeless=True)\n",
    "\n",
    "#bamobs_dat = CosObs_get_energies(psel_mjd(bamobspaths,58008,58010)[:4],fov=1,edgeless=True)\n",
    "#sm_dat = CosObs_get_energies(psel_mjd(smpaths,58008,58010),edgeless=True)"
   ]
  },
  {
   "cell_type": "markdown",
   "metadata": {},
   "source": [
    "Test: Instead of normalizing by the total number of particles, take the flux into account as well"
   ]
  },
  {
   "cell_type": "code",
   "execution_count": 17,
   "metadata": {
    "collapsed": true
   },
   "outputs": [],
   "source": [
    "def energyHist_fluxnormed(obsEn, obsFluxes, bins=None, enrange=None):\n",
    "    \"\"\"\n",
    "    Given a list of energy lists and a list of the fluxes of the corresponding observations,\n",
    "    make a normed energy histogram - each observation is normed by its geometry factor and then averaged over\n",
    "    The output histogram is counts/cm^2/s/eV\n",
    "    \"\"\"\n",
    "    nobs = len(obsFluxes)\n",
    "    Eflat = sum(obsEn, [])\n",
    "    normflat = np.empty(len(Eflat))\n",
    "    \n",
    "    # determine the weights\n",
    "    start = 0\n",
    "    for ii in range(nobs):\n",
    "        nParticles = len(obsEn[ii])\n",
    "        normflat[start:start+nParticles] = obsFluxes[ii]/nParticles\n",
    "        start += +nParticles\n",
    "    \n",
    "    normflat /= nobs\n",
    "    # compute the weighted histogram\n",
    "    histout = np.histogram(Eflat,bins=bins,range=enrange, weights=normflat)\n",
    "    \n",
    "    # divide by bin size\n",
    "    step = histout[1][1] - histout[1][0]\n",
    "    #step=1\n",
    "    \n",
    "    return histout[0]/step, histout[1]"
   ]
  },
  {
   "cell_type": "raw",
   "metadata": {},
   "source": [
    "sm_modified = [[s*38/12 for s in o] for o in sm_dat['EN']]"
   ]
  },
  {
   "cell_type": "code",
   "execution_count": 36,
   "metadata": {
    "collapsed": true
   },
   "outputs": [],
   "source": [
    "nhistbam_obs = energyHist_fluxnormed(bamobs_dat['EN'],bamobs_dat['FLUX'],200,(0,40000))\n",
    "nhistbam_sif = energyHist_fluxnormed(bamsif_dat['EN'],bamsif_dat['FLUX'],200,(0,40000))\n",
    "#nhist_sm = energyHist_fluxnormed(sm_dat['EN'],sm_dat['FLUX'],200,(0,40000))\n",
    "\n",
    "sm_modified = [[s*38/12 for s in o] for o in sm_dat['EN']]\n",
    "nhist_sm = energyHist_fluxnormed(sm_modified,sm_dat['FLUX'],200,(0,40000))"
   ]
  },
  {
   "cell_type": "code",
   "execution_count": 38,
   "metadata": {},
   "outputs": [
    {
     "data": {
      "image/png": "[encoded data removed]",
      "text/plain": [
       "<matplotlib.figure.Figure at 0x7f92d1ec6c50>"
      ]
     },
     "metadata": {},
     "output_type": "display_data"
    }
   ],
   "source": [
    "hists = [nhistbam_obs, nhistbam_sif, nhist_sm]\n",
    "colors = [\"tab:blue\", \"tab:green\", \"tab:red\"]\n",
    "labels = ['BAM-OBS', 'BAM-SIF', 'SM-SIF*38/12']\n",
    "alphas = [1,0.7,0.5]\n",
    "\n",
    "for ii in range(len(hists)):\n",
    "    if ii ==1 :continue\n",
    "    h = hists[ii]\n",
    "    plt.bar(h[1][:-1], h[0], h[1][1]-h[1][0], color=colors[ii], alpha=alphas[ii],label=labels[ii])\n",
    "\n",
    "plt.xlabel(\"Deposited Energy [electrons]\")\n",
    "plt.ylabel(\"Counts/cm^2/s/e-\")\n",
    "\n",
    "plt.legend(loc='best')\n",
    "plt.gcf().set_size_inches(10,3)\n",
    "#plt.yscale('log')\n",
    "#plt.savefig(\"../../presentation_imgs/Ehist_renormed.pdf\",bbox_inches='tight')"
   ]
  }
 ],
 "metadata": {
  "kernelspec": {
   "display_name": "Python 3",
   "language": "python",
   "name": "python3"
  },
  "language_info": {
   "codemirror_mode": {
    "name": "ipython",
    "version": 3
   },
   "file_extension": ".py",
   "mimetype": "text/x-python",
   "name": "python",
   "nbconvert_exporter": "python",
   "pygments_lexer": "ipython3",
   "version": "3.6.1"
  }
 },
 "nbformat": 4,
 "nbformat_minor": 2
}
