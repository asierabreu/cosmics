{
 "cells": [
  {
   "cell_type": "markdown",
   "metadata": {},
   "source": [
    "# Determination of bias in angle reconstruction"
   ]
  },
  {
   "cell_type": "markdown",
   "metadata": {},
   "source": [
    "The determination of angles in our images is biased, since we apply binning as well as non-rectangular pixels. Let's try to emulate it."
   ]
  },
  {
   "cell_type": "markdown",
   "metadata": {},
   "source": [
    "Strategy:\n",
    "- Throw a few \"cosmics\" of constant length and varying orientation on a quadratic grid\n",
    "- apply binning\n",
    "- try our reconstruction"
   ]
  },
  {
   "cell_type": "code",
   "execution_count": 1,
   "metadata": {
    "collapsed": true
   },
   "outputs": [],
   "source": [
    "import numpy as np\n",
    "# Set up matplotlib and use a nicer set of plot parameters\n",
    "%config InlineBackend.rc = {}\n",
    "import matplotlib\n",
    "matplotlib.rc_file(\"../templates/matplotlibrc\")\n",
    "import matplotlib.pyplot as plt\n",
    "%matplotlib inline\n",
    "\n",
    "import scipy.ndimage as ndimage"
   ]
  },
  {
   "cell_type": "code",
   "execution_count": 2,
   "metadata": {
    "collapsed": true
   },
   "outputs": [],
   "source": [
    "def add_cosmics(image, n, l):\n",
    "    # add n cosmics of length l (in pixels) and random angles onto the image\n",
    "    # the image corresponds to a cosmic ray mask output of, say, scrappy\n",
    "    # cosmics are added to the image - also returns a list of angles\n",
    "    \n",
    "    # get image dimensions\n",
    "    (xmax,ymax) = image.shape\n",
    "    xmax -= 1\n",
    "    ymax -= 1\n",
    "    \n",
    "    # roll some angles\n",
    "    angles = np.random.uniform(low=0,high=2*np.pi,size=n)\n",
    "    \n",
    "    # starting from the origin point, construct the cosmics\n",
    "    for ii in range(n):\n",
    "        # roll origin points\n",
    "        x0 = np.random.randint(0,xmax,size=1)\n",
    "        y0 = np.random.randint(0,ymax,size=1)\n",
    "        \n",
    "        # roll affected pixels\n",
    "        x = np.linspace(x0, x0+(l*np.cos(angles[ii])),2*l)  # 2*l to avoid skipping pixels\n",
    "        y = np.linspace(y0, y0+(l*np.sin(angles[ii])),2*l)\n",
    "        # round to nearest ints\n",
    "        x = np.floor(x).astype(\"int\")                       # floor makes sense here - (0.5,0.5) is pixel (0,0)\n",
    "        y = np.floor(y).astype(\"int\")\n",
    "        \n",
    "        # remove everything going over border\n",
    "        x_cut = x[np.logical_and(x<xmax, y<ymax)]\n",
    "        y_cut = y[np.logical_and(x<xmax, y<ymax)]\n",
    "        \n",
    "        # fill the affected pixels\n",
    "        image[x_cut,y_cut] = 1\n",
    "        \n",
    "    # rebin angles to what we can detect\n",
    "    angles[angles>3*np.pi/2] -= 2*np.pi \n",
    "    angles[angles>np.pi/2] -= np.pi \n",
    "    return angles*180/np.pi         # in degrees"
   ]
  },
  {
   "cell_type": "code",
   "execution_count": 12,
   "metadata": {
    "collapsed": true
   },
   "outputs": [],
   "source": [
    "# Custom routine fitting a line\n",
    "\n",
    "def linefunc(pars, x):\n",
    "    \"\"\"\n",
    "    pars is an array of [theta,y0], with theta given in degrees\n",
    "    \"\"\"\n",
    "    return np.tan(pars[0]*np.pi/180)*x + pars[1]\n",
    "\n",
    "def angle_linefit(track, pixratio=1):\n",
    "    \"\"\"\n",
    "    Determine the angle of the track with respect to axis 0.\n",
    "    In case of non-quadratic pixels, pixratio gives the ratio of pixel lengths in axis 1 to axis 0 \n",
    "    (so in case of Gaia, AC/AL including binnning)\n",
    "    \"\"\"\n",
    "    \n",
    "    dim0, dim1 = track.shape\n",
    "    \n",
    "    # we will form an x/y value pairs\n",
    "    # the for the shorter axis (Gaia: Usually AC, so y), we calculate the center of mass at each value of the longer axis\n",
    "    \n",
    "    from scipy.ndimage.measurements import center_of_mass\n",
    "    \n",
    "    if dim0 >= dim1:\n",
    "        labels = np.zeros((dim0,dim1)) + np.transpose(np.array([range(dim0)]))\n",
    "        cms = (center_of_mass(track, labels, range(dim0)))      \n",
    "    else:\n",
    "        labels = np.zeros((dim0,dim1)) + np.array([range(dim1)])\n",
    "        cms = (center_of_mass(track, labels, range(dim1)))\n",
    "    x = np.array([c[0] for c in cms])\n",
    "    y = np.array([c[1] for c in cms])* pixratio\n",
    "    \n",
    "    # TODO erros should be calculated more intelligently\n",
    "    dx = np.zeros(x.shape)+0.5\n",
    "    dy = np.zeros(y.shape)+pixratio/2\n",
    "\n",
    "    \n",
    "    from scipy import odr\n",
    "    \n",
    "    linemodel = odr.Model(linefunc)\n",
    "    fitdat = odr.RealData(x, y, sx=dx, sy=dy)\n",
    "\n",
    "    myodr = odr.ODR(fitdat, linemodel, beta0=[0., 0.])\n",
    "    myoutput = myodr.run()\n",
    "    \n",
    "    #return x,y,dx,dy\n",
    "    return myoutput.beta[0], myoutput.sd_beta[0]"
   ]
  },
  {
   "cell_type": "code",
   "execution_count": 3,
   "metadata": {
    "collapsed": true
   },
   "outputs": [],
   "source": [
    "source = np.zeros((2543*2,990*6)) # like SM, but no binning and rectangular pixels\n",
    "#source = np.zeros((1200,1200))\n",
    "\n",
    "angles = add_cosmics(source,10000,5)"
   ]
  },
  {
   "cell_type": "raw",
   "metadata": {},
   "source": [
    "plt.imshow(source,cmap=\"gray\")\n",
    "plt.grid(False)"
   ]
  },
  {
   "cell_type": "code",
   "execution_count": 4,
   "metadata": {},
   "outputs": [
    {
     "data": {
      "text/plain": [
       "<matplotlib.text.Text at 0x7f7d8990a128>"
      ]
     },
     "execution_count": 4,
     "metadata": {},
     "output_type": "execute_result"
    },
    {
     "data": {
      "image/png": "[encoded data removed]",
      "text/plain": [
       "<matplotlib.figure.Figure at 0x7f7dcac2c2e8>"
      ]
     },
     "metadata": {},
     "output_type": "display_data"
    }
   ],
   "source": [
    "thist = plt.hist(angles,180,range=(-90,90))\n",
    "plt.title(\"Input angle distribution\")"
   ]
  },
  {
   "cell_type": "markdown",
   "metadata": {},
   "source": [
    "# Angles recovered from this map"
   ]
  },
  {
   "cell_type": "code",
   "execution_count": 5,
   "metadata": {},
   "outputs": [
    {
     "name": "stdout",
     "output_type": "stream",
     "text": [
      "9896 Events\n"
     ]
    }
   ],
   "source": [
    "mask = source\n",
    "\n",
    "# labelling\n",
    "(labels, ntracks) = ndimage.measurements.label(mask, structure=(np.ones((3,3))))\n",
    "\n",
    "# object extraction\n",
    "evtlocs = ndimage.measurements.find_objects(labels)\n",
    "\n",
    "tracks = []\n",
    "for loc in evtlocs:\n",
    "    tracks.append(mask[loc])\n",
    "\n",
    "print(ntracks, \"Events\")"
   ]
  },
  {
   "cell_type": "code",
   "execution_count": 13,
   "metadata": {},
   "outputs": [],
   "source": [
    "aold = []\n",
    "\n",
    "bin_AC = 1/3\n",
    "bin_AL = 1\n",
    "\n",
    "for track in tracks:\n",
    "\n",
    "    lac = 3*bin_AC*(track.shape[1]-1)\n",
    "    lal = bin_AL*(track.shape[0]-1)\n",
    "    if lac == 0:\n",
    "        ang = 0\n",
    "    elif lal == 0:\n",
    "        ang = 90\n",
    "    else:\n",
    "        ang = np.arctan(3*bin_AC*track.shape[1]/(bin_AL*track.shape[0]))*180/np.pi\n",
    "\n",
    "    aold.append(ang)\n",
    "\n",
    "aold = np.array(aold)\n",
    "\n",
    "\n",
    "anew = []\n",
    "\n",
    "for track in tracks:\n",
    "    ang,err = angle_linefit(track,pixratio=3*bin_AC/bin_AL)\n",
    "    while ang>90:\n",
    "        ang -= 180\n",
    "    while ang<-90:\n",
    "        ang += 180\n",
    "    anew.append(ang)\n",
    "\n",
    "anew = np.array(anew)"
   ]
  },
  {
   "cell_type": "code",
   "execution_count": 15,
   "metadata": {},
   "outputs": [
    {
     "data": {
      "image/png": "[encoded data removed]",
      "text/plain": [
       "<matplotlib.figure.Figure at 0x7f7d817dc898>"
      ]
     },
     "metadata": {},
     "output_type": "display_data"
    }
   ],
   "source": [
    "#thist = plt.hist(aold,180,range=(-90,90),log=True)\n",
    "thist2 = plt.hist(anew,180,range=(-90,90),log=True)"
   ]
  },
  {
   "cell_type": "markdown",
   "metadata": {},
   "source": [
    "-> Aside from binning, the same!"
   ]
  },
  {
   "cell_type": "code",
   "execution_count": 131,
   "metadata": {
    "collapsed": true
   },
   "outputs": [],
   "source": [
    "def bin_array_old(image, binx, biny):\n",
    "    # rebin, using the maximum in each rectangle\n",
    "    \n",
    "    (xmax,ymax) = image.shape\n",
    "    x_new = int(xmax/binx)\n",
    "    y_new = int(ymax/biny)\n",
    "    \n",
    "    output = np.zeros((x_new,y_new,binx*biny))\n",
    "    delx = np.arange(0,xmax,binx)\n",
    "    dely = np.arange(0,ymax,biny)\n",
    "    \n",
    "    for ix in range(x_new):\n",
    "        for iy in range(y_new):\n",
    "            x0 = delx[ix]\n",
    "            y0 = dely[iy]\n",
    "            output[ix,iy,:] = image[x0:x0+binx,y0:y0+biny].flatten()\n",
    "               \n",
    "    return np.max(output,axis=2)"
   ]
  },
  {
   "cell_type": "code",
   "execution_count": 17,
   "metadata": {
    "collapsed": true
   },
   "outputs": [],
   "source": [
    "def bin_array(image, binx, biny):\n",
    "    # rebin, using the maximum in each rectangle\n",
    "    \n",
    "    (xmax,ymax) = image.shape\n",
    "    x_new = int(xmax/binx)\n",
    "    y_new = int(ymax/biny)\n",
    "    \n",
    "    \n",
    "    delx = np.arange(0,xmax,binx)\n",
    "    dely = np.arange(0,ymax,biny)\n",
    "    \n",
    "    output = np.zeros((x_new,y_new))\n",
    "    binned_x = np.zeros((x_new,ymax))\n",
    "    \n",
    "    # first the maxima along x\n",
    "    for ix in range(x_new):\n",
    "        x0 = delx[ix]\n",
    "        binned_x[ix,:] = np.max(image[x0:x0+binx,:],axis=0)\n",
    "    # then along y\n",
    "    for iy in range(y_new):\n",
    "        y0 = dely[iy]\n",
    "        output[:,iy] = np.max(binned_x[:,y0:y0+biny],axis=1)\n",
    "        \n",
    "    return output"
   ]
  },
  {
   "cell_type": "markdown",
   "metadata": {},
   "source": [
    "# Appearance in SM"
   ]
  },
  {
   "cell_type": "code",
   "execution_count": 18,
   "metadata": {},
   "outputs": [],
   "source": [
    "binx = 2\n",
    "biny = 6\n",
    "\n",
    "source_sm = bin_array(source,binx,biny)\n",
    "mask = source_sm"
   ]
  },
  {
   "cell_type": "code",
   "execution_count": 19,
   "metadata": {},
   "outputs": [
    {
     "data": {
      "image/png": "[encoded data removed]",
      "text/plain": [
       "<matplotlib.figure.Figure at 0x7f7d81b17160>"
      ]
     },
     "metadata": {},
     "output_type": "display_data"
    }
   ],
   "source": [
    "image=np.flip(np.rot90(source_sm,1),0) # this should follow the normal gaia convention\n",
    "plt.xlabel('Time [TDI units]')\n",
    "plt.ylabel('AC')\n",
    "plt.imshow(image, cmap='gray')\n",
    "plt.grid(False)"
   ]
  },
  {
   "cell_type": "code",
   "execution_count": 20,
   "metadata": {},
   "outputs": [
    {
     "name": "stdout",
     "output_type": "stream",
     "text": [
      "9556 Events\n"
     ]
    }
   ],
   "source": [
    "# labelling\n",
    "(labels, ntracks) = ndimage.measurements.label(mask, structure=(np.ones((3,3))))\n",
    "\n",
    "# object extraction\n",
    "evtlocs = ndimage.measurements.find_objects(labels)\n",
    "\n",
    "tracks = []\n",
    "for loc in evtlocs:\n",
    "    tracks.append(mask[loc])\n",
    "\n",
    "print(ntracks, \"Events\")"
   ]
  },
  {
   "cell_type": "code",
   "execution_count": 21,
   "metadata": {
    "collapsed": true
   },
   "outputs": [],
   "source": [
    "aold = []\n",
    "\n",
    "bin_AC = 2\n",
    "bin_AL = 2\n",
    "\n",
    "for track in tracks:\n",
    "\n",
    "    lac = 3*bin_AC*(track.shape[1]-1)\n",
    "    lal = bin_AL*(track.shape[0]-1)\n",
    "    if lac == 0:\n",
    "        ang = 0\n",
    "    elif lal == 0:\n",
    "        ang = 90\n",
    "    else:\n",
    "        ang = np.arctan(3*bin_AC*track.shape[1]/(bin_AL*track.shape[0]))*180/np.pi\n",
    "\n",
    "    aold.append(ang)\n",
    "\n",
    "aold = np.array(aold)\n",
    "\n",
    "\n",
    "anew = []\n",
    "\n",
    "for track in tracks:\n",
    "    ang,err = angle_linefit(track,pixratio=3*bin_AC/bin_AL)\n",
    "    while ang>90:\n",
    "        ang -= 180\n",
    "    while ang<-90:\n",
    "        ang += 180\n",
    "    anew.append(ang)\n",
    "\n",
    "anew = np.array(anew)"
   ]
  },
  {
   "cell_type": "code",
   "execution_count": 25,
   "metadata": {},
   "outputs": [
    {
     "data": {
      "image/png": "[encoded data removed]",
      "text/plain": [
       "<matplotlib.figure.Figure at 0x7f7d81861588>"
      ]
     },
     "metadata": {},
     "output_type": "display_data"
    }
   ],
   "source": [
    "thist = plt.hist(aold,180,range=(-90,90),log=True)\n",
    "thist2 = plt.hist(anew,180,range=(-90,90),log=True)"
   ]
  },
  {
   "cell_type": "markdown",
   "metadata": {},
   "source": [
    "# Appearance in BAM"
   ]
  },
  {
   "cell_type": "code",
   "execution_count": 26,
   "metadata": {
    "collapsed": true
   },
   "outputs": [],
   "source": [
    "binx = 1\n",
    "biny = 12\n",
    "\n",
    "source_bam = bin_array(source,binx,biny)\n",
    "mask = source_bam"
   ]
  },
  {
   "cell_type": "code",
   "execution_count": 27,
   "metadata": {},
   "outputs": [
    {
     "data": {
      "image/png": "[encoded data removed]",
      "text/plain": [
       "<matplotlib.figure.Figure at 0x7f7d817a1e10>"
      ]
     },
     "metadata": {},
     "output_type": "display_data"
    }
   ],
   "source": [
    "image=np.flip(np.rot90(source_bam,1),0) # this should follow the normal gaia convention\n",
    "plt.xlabel('Time [TDI units]')\n",
    "plt.ylabel('AC')\n",
    "plt.imshow(image, cmap='gray')\n",
    "plt.grid(False)"
   ]
  },
  {
   "cell_type": "code",
   "execution_count": 28,
   "metadata": {},
   "outputs": [
    {
     "name": "stdout",
     "output_type": "stream",
     "text": [
      "9390 Events\n"
     ]
    }
   ],
   "source": [
    "# labelling\n",
    "(labels, ntracks) = ndimage.measurements.label(mask, structure=(np.ones((3,3))))\n",
    "\n",
    "# object extraction\n",
    "evtlocs = ndimage.measurements.find_objects(labels)\n",
    "\n",
    "tracks = []\n",
    "for loc in evtlocs:\n",
    "    tracks.append(mask[loc])\n",
    "\n",
    "print(ntracks, \"Events\")"
   ]
  },
  {
   "cell_type": "code",
   "execution_count": 29,
   "metadata": {
    "collapsed": true
   },
   "outputs": [],
   "source": [
    "aold = []\n",
    "\n",
    "bin_AC = 2\n",
    "bin_AL = 2\n",
    "\n",
    "for track in tracks:\n",
    "\n",
    "    lac = 3*bin_AC*(track.shape[1]-1)\n",
    "    lal = bin_AL*(track.shape[0]-1)\n",
    "    if lac == 0:\n",
    "        ang = 0\n",
    "    elif lal == 0:\n",
    "        ang = 90\n",
    "    else:\n",
    "        ang = np.arctan(3*bin_AC*track.shape[1]/(bin_AL*track.shape[0]))*180/np.pi\n",
    "\n",
    "    aold.append(ang)\n",
    "\n",
    "aold = np.array(aold)\n",
    "\n",
    "\n",
    "anew = []\n",
    "\n",
    "for track in tracks:\n",
    "    ang,err = angle_linefit(track,pixratio=3*bin_AC/bin_AL)\n",
    "    while ang>90:\n",
    "        ang -= 180\n",
    "    while ang<-90:\n",
    "        ang += 180\n",
    "    anew.append(ang)\n",
    "\n",
    "anew = np.array(anew)"
   ]
  },
  {
   "cell_type": "code",
   "execution_count": 30,
   "metadata": {},
   "outputs": [
    {
     "data": {
      "image/png": "[encoded data removed]",
      "text/plain": [
       "<matplotlib.figure.Figure at 0x7f7d818d1400>"
      ]
     },
     "metadata": {},
     "output_type": "display_data"
    }
   ],
   "source": [
    "thist = plt.hist(aold,180,range=(-90,90),log=True)\n",
    "thist2 = plt.hist(anew,180,range=(-90,90),log=True)"
   ]
  },
  {
   "cell_type": "markdown",
   "metadata": {},
   "source": [
    "# Aside from some systematics in my rebinning and such, this matches very well!"
   ]
  }
 ],
 "metadata": {
  "kernelspec": {
   "display_name": "Python 3",
   "language": "python",
   "name": "python3"
  },
  "language_info": {
   "codemirror_mode": {
    "name": "ipython",
    "version": 3
   },
   "file_extension": ".py",
   "mimetype": "text/x-python",
   "name": "python",
   "nbconvert_exporter": "python",
   "pygments_lexer": "ipython3",
   "version": "3.6.1"
  }
 },
 "nbformat": 4,
 "nbformat_minor": 2
}
