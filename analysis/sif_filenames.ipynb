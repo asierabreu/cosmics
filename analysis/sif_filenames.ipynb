{
 "cells": [
  {
   "cell_type": "markdown",
   "metadata": {},
   "source": [
    "# Produce time-ordered files for BAM-SIF and SM1/2 data"
   ]
  },
  {
   "cell_type": "code",
   "execution_count": 15,
   "metadata": {
    "collapsed": true
   },
   "outputs": [],
   "source": [
    "import glob\n",
    "import re as regex"
   ]
  },
  {
   "cell_type": "code",
   "execution_count": 16,
   "metadata": {
    "collapsed": true
   },
   "outputs": [],
   "source": [
    "dataroot = \"../datasets/sif_fits/\"  # all the SIF files are here (simlink)"
   ]
  },
  {
   "cell_type": "code",
   "execution_count": 17,
   "metadata": {
    "collapsed": true
   },
   "outputs": [],
   "source": [
    "# grab the paths\n",
    "sm1path = glob.glob(dataroot+\"*/*SM1*CDP_NONE.fits\")  # There are a few CLOCKING ones there - can I use them?\n",
    "sm2path = glob.glob(dataroot+\"*/*SM2*CDP_NONE.fits\")\n",
    "bampath = glob.glob(dataroot+\"*/*BAM*CLOCKING*\")\n",
    "\n",
    "# remove the ../\n",
    "sm1path = [p[3:] for p in sm1path]\n",
    "sm2path = [p[3:] for p in sm2path]\n",
    "bampath = [p[3:] for p in bampath]\n",
    "\n",
    "# sort them\n",
    "# problem: just applying the standard \"sorted\" function does not work\n",
    "# -> it sorts by date, but then picks up on the ROW, I need OBMT!\n",
    "\n",
    "getobmt = lambda x: int(regex.search(\"(?<=OBMT_START_)[0-9]+\",x).group(0))\n",
    "\n",
    "sm1path.sort(key=getobmt)\n",
    "sm2path.sort(key=getobmt)\n",
    "bampath.sort(key=getobmt) # note: I think this contains some stuff besides our images with patterns"
   ]
  },
  {
   "cell_type": "code",
   "execution_count": 18,
   "metadata": {
    "collapsed": true
   },
   "outputs": [],
   "source": [
    "# write everyting into files\n",
    "\n",
    "filenames = [\"filenames_sm1.txt\", \"filenames_sm2.txt\", \"filenames_bam-sif.txt\"]\n",
    "pathlists = [sm1path, sm2path, bampath]\n",
    "\n",
    "for ii in range(len(pathlists)):\n",
    "    file = open(filenames[ii], 'w')\n",
    "    pathlist = pathlists[ii\n",
    "                        ]\n",
    "    for path in pathlist:\n",
    "        file.write(\"%s\\n\" % path)\n",
    "        \n",
    "    file.close()"
   ]
  }
 ],
 "metadata": {
  "kernelspec": {
   "display_name": "Python 3",
   "language": "python",
   "name": "python3"
  },
  "language_info": {
   "codemirror_mode": {
    "name": "ipython",
    "version": 3
   },
   "file_extension": ".py",
   "mimetype": "text/x-python",
   "name": "python",
   "nbconvert_exporter": "python",
   "pygments_lexer": "ipython3",
   "version": "3.6.1"
  }
 },
 "nbformat": 4,
 "nbformat_minor": 2
}
