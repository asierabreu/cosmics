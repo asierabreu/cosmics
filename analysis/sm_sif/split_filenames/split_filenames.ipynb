{
 "cells": [
  {
   "cell_type": "markdown",
   "metadata": {},
   "source": [
    "# Take the SM1 and SM2 data and split them into different files"
   ]
  },
  {
   "cell_type": "code",
   "execution_count": 2,
   "metadata": {
    "collapsed": true
   },
   "outputs": [],
   "source": [
    "import re as regex"
   ]
  },
  {
   "cell_type": "code",
   "execution_count": 3,
   "metadata": {
    "collapsed": true
   },
   "outputs": [],
   "source": [
    "# function to get row\n",
    "getrow = lambda x: int(regex.search(\"(?<=CCD_ROW_)[0-9]+\",x).group(0))\n",
    "# function to get OBMT\n",
    "getobmt = lambda x: int(regex.search(\"(?<=OBMT_START_)[0-9]+\",x).group(0))"
   ]
  },
  {
   "cell_type": "code",
   "execution_count": 4,
   "metadata": {
    "collapsed": true
   },
   "outputs": [],
   "source": [
    "# construct a list like a numpy array, for each fov and row\n",
    "\n",
    "filenames = [[],[]]\n",
    "\n",
    "for ii in range(7):\n",
    "    filenames[0].append([])\n",
    "    filenames[1].append([])\n",
    "    \n",
    "# access structure is filenames[fov-1][row-1]\n",
    "\n",
    "for fov in [1,2]:\n",
    "\n",
    "    pathfile = \"../../filenames_sm{}.txt\".format(fov)\n",
    "\n",
    "\n",
    "    allfiles = []\n",
    "    f = open(pathfile, 'r')\n",
    "    allfiles = f.readlines()\n",
    "    f.close()\n",
    "\n",
    "    for file in allfiles:\n",
    "        row = getrow(file)\n",
    "        filenames[fov-1][row-1].append(file)"
   ]
  },
  {
   "cell_type": "code",
   "execution_count": 5,
   "metadata": {
    "collapsed": true
   },
   "outputs": [],
   "source": [
    "# now we need to weed out all the calibration activities\n",
    "# for each row, I will give a tuple of OBMT_START and END of regions to exclude\n",
    "\n",
    "# CI_IN_SM - this applies to ALL rows\n",
    "\n",
    "OBMT_CI = [(6.81042889094578E+015,6.81522889094786E+015),\n",
    "           (1.78191982102836E+016,1.78233982102849E+016),\n",
    "           (4.29615982403429E+016,4.29657982403473E+016),\n",
    "           (5.44455992558824E+016,5.44539992558934E+016),\n",
    "           (6.01479992631641E+016,6.01563992631747E+016),\n",
    "           (7.0170399276483E+016,7.01787992764946E+016),\n",
    "           (8.07111992907961E+016,8.0719599290808E+016),\n",
    "           (8.78175993010565E+016,8.78259993010686E+016),\n",
    "           (9.85959993166397E+016,9.86001993166458E+016),\n",
    "           (1.10173600334343E+017,1.10178400334351E+017),\n",
    "           (1.2062800035135E+017,1.20632200351357E+017)\n",
    "          ]\n",
    "\n",
    "# FVBS - Forward bias, row-wise\n",
    "\n",
    "FVBS1 = [(6.70902889090192E+015,6.71532889090465E+015),\n",
    "         (1.36233982073171E+016,1.36305982073196E+016),\n",
    "         (5.11626982515722E+016,5.11634182515731E+016),\n",
    "         (9.24618993078481E+016,9.2467299307856E+016),\n",
    "         (1.1967790034981E+017,1.19683300348819E+017)\n",
    "        ]\n",
    "\n",
    "FVBS2 = [(6.70902889090192E+015,6.71532889090465E+015),\n",
    "         (1.36233982073171E+016,1.36305982073196E+016),\n",
    "         (5.13354982517898E+016,5.13362182517907E+016),\n",
    "         (9.24618993078481E+016,9.2467299307856E+016),\n",
    "         (1.1967790034981E+017,1.19683300348819E+017)\n",
    "        ]\n",
    "\n",
    "FVBS3 = [(6.70902889090192E+015,6.71532889090465E+015),\n",
    "         (1.36233982073171E+016,1.36305982073196E+016),\n",
    "         (5.15082982520074E+016,5.15090182520083E+016),\n",
    "         (9.24618993078481E+016,9.2467299307856E+016),\n",
    "         (1.1967790034981E+017,1.19683300348819E+017)\n",
    "        ]\n",
    "\n",
    "FVBS4 = [(6.70902889090192E+015,6.71532889090465E+015),\n",
    "         (1.36233982073171E+016,1.36305982073196E+016),\n",
    "         (5.1681098252225E+016,5.16818182522259E+016),\n",
    "         (9.27210993082233E+016,9.27282993082337E+016),\n",
    "         (1.19429200349407E+017,1.19436400349418E+017)\n",
    "        ]\n",
    "\n",
    "FVBS5 = [(6.70902889090192E+015,6.71532889090465E+015),\n",
    "         (1.36233982073171E+016,1.36305982073196E+016),\n",
    "         (5.18538982524426E+016,5.18546182524435E+016),\n",
    "         (9.27210993082233E+016,9.27282993082337E+016),\n",
    "         (1.19429200349407E+017,1.19436400349418E+017)\n",
    "        ]\n",
    "\n",
    "FVBS6 = [(6.70902889090192E+015,6.71532889090465E+015),\n",
    "         (1.36233982073171E+016,1.36305982073196E+016),\n",
    "         (5.20266982526602E+016,5.20274182526611E+016),\n",
    "         (9.27210993082233E+016,9.27282993082337E+016),\n",
    "         (1.19429200349407E+017,1.19436400349418E+017)\n",
    "        ]\n",
    "\n",
    "FVBS7 = [(6.70902889090192E+015,6.71532889090465E+015),\n",
    "         (1.36233982073171E+016,1.36305982073196E+016),\n",
    "         (5.21994982528778E+016,5.22002182528788E+016),\n",
    "         (9.27210993082233E+016,9.27282993082337E+016),\n",
    "         (1.19429200349407E+017,1.19436400349418E+017)\n",
    "        ]\n",
    "\n",
    "FVBS = [FVBS1,FVBS2,FVBS3,FVBS4,FVBS5,FVBS6,FVBS7]"
   ]
  },
  {
   "cell_type": "code",
   "execution_count": 6,
   "metadata": {
    "collapsed": true
   },
   "outputs": [],
   "source": [
    "def clean_files(files, periods):\n",
    "    # do the cleaning - get rid of all files within the listed time periods\n",
    "    to_remove = []  # files to remove later\n",
    "    for period in periods:\n",
    "        tstart = period[0]\n",
    "        tstop = period[1]\n",
    "        for file in files:\n",
    "            time = getobmt(file)\n",
    "            if (time>=tstart) and (time<=tstop):\n",
    "                to_remove.append(file)\n",
    "    for file in to_remove:\n",
    "        files.remove(file)"
   ]
  },
  {
   "cell_type": "code",
   "execution_count": 7,
   "metadata": {
    "collapsed": true
   },
   "outputs": [],
   "source": [
    "# write 14 files\n",
    "\n",
    "for ifov in range(2):\n",
    "    for irow in range(7):\n",
    "        data = filenames[ifov][irow]\n",
    "        clean_files(data,OBMT_CI+FVBS[irow])\n",
    "        outname = \"filenames_sm{}_row_{}.txt\".format(ifov+1,irow+1)\n",
    "        \n",
    "        file = open(outname, 'w')\n",
    "\n",
    "        for path in data:\n",
    "            file.write(\"%s\" % path)\n",
    "\n",
    "        file.close()"
   ]
  },
  {
   "cell_type": "code",
   "execution_count": 11,
   "metadata": {
    "collapsed": true
   },
   "outputs": [],
   "source": [
    "# and one for each fov\n",
    "for ifov in range(2):\n",
    "    fov_files = []\n",
    "    for irow in range(7):\n",
    "        data = filenames[ifov][irow]\n",
    "        clean_files(data,OBMT_CI+FVBS[irow])\n",
    "        fov_files += data\n",
    "    fov_files.sort(key=getobmt)    \n",
    "    outname = \"filenames_sm{}_clean.txt\".format(ifov+1)    \n",
    "    file = open(outname, 'w')\n",
    "    for path in fov_files:\n",
    "        file.write(\"%s\" % path)\n",
    "    file.close()\n"
   ]
  }
 ],
 "metadata": {
  "kernelspec": {
   "display_name": "Python 3",
   "language": "python",
   "name": "python3"
  },
  "language_info": {
   "codemirror_mode": {
    "name": "ipython",
    "version": 3
   },
   "file_extension": ".py",
   "mimetype": "text/x-python",
   "name": "python",
   "nbconvert_exporter": "python",
   "pygments_lexer": "ipython3",
   "version": "3.6.1"
  }
 },
 "nbformat": 4,
 "nbformat_minor": 2
}
