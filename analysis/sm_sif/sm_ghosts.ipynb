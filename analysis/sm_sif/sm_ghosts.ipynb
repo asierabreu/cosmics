{
 "cells": [
  {
   "cell_type": "markdown",
   "metadata": {},
   "source": [
    "# An attempt to identify the electronic ghosts found in SM"
   ]
  },
  {
   "cell_type": "code",
   "execution_count": 1,
   "metadata": {
    "collapsed": true
   },
   "outputs": [],
   "source": [
    "import numpy as np\n",
    "# Set up matplotlib and use a nicer set of plot parameters\n",
    "%config InlineBackend.rc = {}\n",
    "import matplotlib\n",
    "matplotlib.rc_file(\"../../templates/matplotlibrc\")\n",
    "import matplotlib.pyplot as plt\n",
    "%matplotlib inline\n",
    "from matplotlib.colors import LogNorm"
   ]
  },
  {
   "cell_type": "code",
   "execution_count": 2,
   "metadata": {
    "collapsed": true
   },
   "outputs": [],
   "source": [
    "from extraction_sm import *\n",
    "from astropy.io import fits"
   ]
  },
  {
   "cell_type": "code",
   "execution_count": 89,
   "metadata": {},
   "outputs": [
    {
     "name": "stdout",
     "output_type": "stream",
     "text": [
      "Using 1185 files\n"
     ]
    }
   ],
   "source": [
    "# pick out all files for one fov and row\n",
    "\n",
    "fov = 2\n",
    "row = 5\n",
    "pathfile = \"split_filenames/filenames_sm_{}_row_{}.txt\".format(fov,row)\n",
    "\n",
    "\n",
    "allfiles = []\n",
    "f = open(pathfile, 'r')\n",
    "allfiles = f.readlines()\n",
    "f.close()\n",
    "\n",
    "# strip away newlines and add absolute path prefix\n",
    "allfiles = [\"../../\"+s.strip() for s in allfiles]\n",
    "\n",
    "sourcefiles = allfiles[:]\n",
    "\n",
    "print(\"Using\", len(sourcefiles), \"files\")"
   ]
  },
  {
   "cell_type": "code",
   "execution_count": 90,
   "metadata": {
    "collapsed": true
   },
   "outputs": [],
   "source": [
    "# write a function that collects the ghosts\n",
    "\n",
    "def sm_starmask_ghosts(image,threshold):\n",
    "    import numpy as np\n",
    "    from scipy.ndimage import generate_binary_structure\n",
    "    from scipy.ndimage.morphology import binary_dilation\n",
    "    from scipy.ndimage.measurements import label, find_objects\n",
    "\n",
    "    # occasionally, an overflow for very bright stars causes some pixels to be set to 0\n",
    "    # -> set them to 65535, so they will be masked\n",
    "    image[image==0] = 65535\n",
    "\n",
    "    # number of ghosts detected\n",
    "    outnum = 0\n",
    "    \n",
    "    # initialize the mask to all False\n",
    "    ######starmask = np.zeros(image.shape, dtype=bool)\n",
    "\n",
    "    # if nothing is saturated, return the starmask\n",
    "    if np.max(image)<65535:\n",
    "        #return starmask\n",
    "        return outnum\n",
    "    else:\n",
    "        # mask of pixels above threshold\n",
    "        satmap = np.logical_and(image,image>=threshold)\n",
    "\n",
    "        # dilate it - sometimes, pixel values fluctuate around the threshold\n",
    "        satmap = binary_dilation(satmap,iterations=1)\n",
    "\n",
    "        # labelling all connected pixels\n",
    "        (starlabels, nstars) = label(satmap,structure=(np.ones((3,3))))\n",
    "\n",
    "        # we're only interested in the labels of pixels that are saturated\n",
    "        # so, get all the labels that have that:\n",
    "        satlabels = np.unique(starlabels[image==65535])\n",
    "\n",
    "        for lab in satlabels:\n",
    "            starcoords = np.argwhere(starlabels==lab)\n",
    "            ######starmask[starlabels==lab] = 1\n",
    "            # this star may also cause electronic ghosts at lower AC = x\n",
    "            # they will have the same central AL, though\n",
    "            # we can determine that: it's the AL-coordinate of the masked star pixel LOWEST in AC\n",
    "            edgepix = starcoords[np.where(starcoords[:,1] == np.min(starcoords[:,1]))][0] # first should be accurate enough\n",
    "            ghostlabels = np.unique(starlabels[edgepix[0],0:edgepix[1]])\n",
    "            if len(ghostlabels) == 1:\n",
    "                # Only found 0's, so nothing\n",
    "                return outnum\n",
    "                continue\n",
    "            else:\n",
    "                for glab in ghostlabels[1:]:\n",
    "                    if np.sum(starlabels[starlabels==glab]/glab) >= 100:\n",
    "                        ######starmask[starlabels==glab] = 1\n",
    "                        outnum += 1\n",
    "\n",
    "    return outnum\n",
    "    #return starmask - dilate it once (we won't be losing much here)\n",
    "    #starmask = binary_dilation(starmask,iterations=1)"
   ]
  },
  {
   "cell_type": "code",
   "execution_count": 91,
   "metadata": {},
   "outputs": [
    {
     "name": "stdout",
     "output_type": "stream",
     "text": [
      "Elapsed time: 361.3627359867096\n"
     ]
    }
   ],
   "source": [
    "# let's test the execution time\n",
    "import time\n",
    "timingstart = time.time()\n",
    "\n",
    "ghostfiles = []\n",
    "\n",
    "for sourcefile in sourcefiles:\n",
    "    image = fits.getdata(sourcefile)[:,7:]\n",
    "    nghosts = sm_starmask_ghosts(image,2000)\n",
    "    if nghosts > 0:\n",
    "        ghostfiles.append([sourcefile[24:],nghosts])\n",
    "\n",
    "    \n",
    "timingend = time.time()\n",
    "print(\"Elapsed time:\", timingend - timingstart)"
   ]
  },
  {
   "cell_type": "code",
   "execution_count": 92,
   "metadata": {},
   "outputs": [
    {
     "name": "stdout",
     "output_type": "stream",
     "text": [
      "8\n"
     ]
    }
   ],
   "source": [
    "print(len(ghostfiles))"
   ]
  },
  {
   "cell_type": "code",
   "execution_count": 93,
   "metadata": {},
   "outputs": [
    {
     "name": "stdout",
     "output_type": "stream",
     "text": [
      "2014-05-27/SIF_PROCESSING_CCD_ROW_5_SM2_OBMT_START_18165643999804700_CDP_NONE.fits 1\n",
      "2015-04-03/SIF_PROCESSING_CCD_ROW_5_SM2_OBMT_START_45102899999131100_CDP_NONE.fits 1\n",
      "2016-05-15/SIF_PROCESSING_CCD_ROW_5_SM2_OBMT_START_80337467997943100_CDP_NONE.fits 1\n",
      "2016-05-18/SIF_PROCESSING_CCD_ROW_5_SM2_OBMT_START_80588448000525500_CDP_NONE.fits 1\n",
      "2016-09-26/SIF_PROCESSING_CCD_ROW_5_SM2_OBMT_START_91884270000023900_CDP_NONE.fits 1\n",
      "2017-02-04/SIF_PROCESSING_CCD_ROW_5_SM2_OBMT_START_103225758982847900_CDP_NONE.fits 1\n",
      "2017-03-10/SIF_PROCESSING_CCD_ROW_5_SM2_OBMT_START_106173052000171100_CDP_NONE.fits 1\n",
      "2017-03-20/SIF_PROCESSING_CCD_ROW_5_SM2_OBMT_START_107008477999142300_CDP_NONE.fits 1\n"
     ]
    }
   ],
   "source": [
    "for file in ghostfiles:\n",
    "    print(file[0], file[1])"
   ]
  },
  {
   "cell_type": "code",
   "execution_count": null,
   "metadata": {
    "collapsed": true
   },
   "outputs": [],
   "source": []
  }
 ],
 "metadata": {
  "kernelspec": {
   "display_name": "Python 3",
   "language": "python",
   "name": "python3"
  },
  "language_info": {
   "codemirror_mode": {
    "name": "ipython",
    "version": 3
   },
   "file_extension": ".py",
   "mimetype": "text/x-python",
   "name": "python",
   "nbconvert_exporter": "python",
   "pygments_lexer": "ipython3",
   "version": "3.6.1"
  }
 },
 "nbformat": 4,
 "nbformat_minor": 2
}
