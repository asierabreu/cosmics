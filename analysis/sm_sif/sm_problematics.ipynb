{
 "cells": [
  {
   "cell_type": "markdown",
   "metadata": {},
   "source": [
    "Due to the nature of SM, some images that pop up make problems on our readout - here, we try to find them and eliminate them"
   ]
  },
  {
   "cell_type": "code",
   "execution_count": 2,
   "metadata": {
    "collapsed": true
   },
   "outputs": [],
   "source": [
    "import numpy as np\n",
    "# Set up matplotlib and use a nicer set of plot parameters\n",
    "%config InlineBackend.rc = {}\n",
    "import matplotlib\n",
    "matplotlib.rc_file(\"../../templates/matplotlibrc\")\n",
    "import matplotlib.pyplot as plt\n",
    "%matplotlib inline\n",
    "from matplotlib.colors import LogNorm"
   ]
  },
  {
   "cell_type": "code",
   "execution_count": 3,
   "metadata": {
    "collapsed": true
   },
   "outputs": [],
   "source": [
    "from extraction_sm import *\n",
    "import astroscrappy\n",
    "import scipy.ndimage as ndimage\n",
    "from scipy.signal import convolve2d"
   ]
  },
  {
   "cell_type": "code",
   "execution_count": 90,
   "metadata": {
    "collapsed": true
   },
   "outputs": [],
   "source": [
    "# Problem children\n",
    "\n",
    "# has a long column that's definitely a readout feature - causes spurious detections - at AC 68\n",
    "# this guy has a baseline of about 33000 and a very high variation - like readnoise\n",
    "# This is actually a hot column! They may appear sometimes, be there from the start or evolve in time.\n",
    "# I also need to find an get rid of them.\n",
    "#sourcefile = \"../../datasets/sif_fits/2017-09-11/SIF_PROCESSING_CCD_ROW_4_SM1_OBMT_START_122099783998730300_CDP_NONE.fits\"\n",
    "\n",
    "# has stars that STILL cause detections (when flipped, around [600:800,1200:1400])\n",
    "# even setting objlim or sigclip to really high values does not fix this - I'll lose cosmics\n",
    "# WAIT. Looking at them with ds9, you see that they're REALLY weird. They don't decay smoothly at all!\n",
    "# They're all in the same line (e.g. same AL)! Are they some kind of ghost caused by the bright star???\n",
    "# -> Yes, they are, they appear sometimes, trailing the star. You need to mask them...\n",
    "sourcefile = \"../../datasets/sif_fits/2017-06-30/SIF_PROCESSING_CCD_ROW_5_SM1_OBMT_START_115795370998972700_CDP_NONE.fits\"\n",
    "# SOLVED - see our lower redefinition of sm_starmask\n",
    "\n",
    "# this one causes crashes while calculating the mean mask - some pixels seem to be very negative\n",
    "#sourcefile = \"../../datasets/sif_fits/2017-09-11/SIF_PROCESSING_CCD_ROW_1_SM1_OBMT_START_122099768999236700_CDP_NONE.fits\"\n",
    "# SOLVED - here, I think that the mean mask cleaning fails due to proximity to a star or an unrecognized cosmic\n",
    "# SOLUTION: Since these guys can't have a proper error estimation (and quite likely wrong detections), I discard any\n",
    "#           values where (imbias-clean) < 0\n",
    "# this also fixes negative energy cosmics\n",
    "\n",
    "#sourcefile=(\"../../datasets/sif_fits/2014-01-03/SIF_PROCESSING_CCD_ROW_1_SM1_OBMT_START_5520130998393550_CDP_NONE.fits\")\n",
    "\n",
    "(source,gain,bias,readnoise,fov,row,tstart,tstop) = sm_get_image(sourcefile, \"../../datasets/sm_bias/sm_calibdat.fits\")\n",
    "imbias = source-bias\n",
    "imelec = imbias*gain\n",
    "\n",
    "starmask = sm_starmask(source,2000)"
   ]
  },
  {
   "cell_type": "code",
   "execution_count": 93,
   "metadata": {
    "collapsed": true
   },
   "outputs": [],
   "source": [
    "# to get rid of the electronic ghosts, it's best that I improve my masking algorithm\n",
    "\n",
    "image = source\n",
    "threshold = 2000\n",
    "\n",
    "import numpy as np\n",
    "from scipy.ndimage import generate_binary_structure\n",
    "from scipy.ndimage.morphology import binary_dilation\n",
    "from scipy.ndimage.measurements import label, find_objects\n",
    "\n",
    "# occasionally, an overflow for very bright stars causes some pixels to be set to 0\n",
    "# -> set them to 65535, so they will be masked\n",
    "image[image==0] = 65535\n",
    "\n",
    "# initialize the mask to all False\n",
    "starmask = np.zeros(image.shape, dtype=bool)\n",
    "\n",
    "# if nothing is saturated, return the starmask\n",
    "if np.max(image)<65535:\n",
    "    pass\n",
    "    #return starmask\n",
    "else:\n",
    "    # mask of pixels above threshold\n",
    "    satmap = np.logical_and(image,image>=threshold)\n",
    "\n",
    "    # dilate it - sometimes, pixel values fluctuate around the threshold\n",
    "    satmap = binary_dilation(satmap,iterations=1)\n",
    "\n",
    "    # labelling all connected pixels\n",
    "    (starlabels, nstars) = label(satmap,structure=(np.ones((3,3))))\n",
    "\n",
    "    # we're only interested in the labels of pixels that are saturated\n",
    "    # so, get all the labels that have that:\n",
    "    satlabels = np.unique(starlabels[image==65535])\n",
    "\n",
    "    for lab in satlabels:\n",
    "        starcoords = np.argwhere(starlabels==lab)\n",
    "        starmask[starlabels==lab] = 1\n",
    "        # this star may also cause electronic ghosts at lower AC = x\n",
    "        # they will have the same central AL, though\n",
    "        # we can determine that: it's the AL-coordinate of the masked star pixel LOWEST in AC\n",
    "        edgepix = starcoords[np.where(starcoords[:,1] == np.min(starcoords[:,1]))][0] # first should be accurate enough\n",
    "        ghostlabels = np.unique(starlabels[edgepix[0],0:edgepix[1]])\n",
    "        if len(ghostlabels) == 1:\n",
    "            # Only found 0's, so nothing\n",
    "            continue\n",
    "        else:\n",
    "            for glab in ghostlabels[1:]:\n",
    "                if np.sum(starlabels[starlabels==glab]/glab) >= 100:\n",
    "                    starmask[starlabels==glab] = 1\n",
    "                \n",
    "\n",
    "    #return starmask - dilate it once (we won't be losing much here)\n",
    "    starmask = binary_dilation(starmask,iterations=1)"
   ]
  },
  {
   "cell_type": "code",
   "execution_count": 94,
   "metadata": {},
   "outputs": [
    {
     "data": {
      "image/png": "[encoded data removed]",
      "text/plain": [
       "<matplotlib.figure.Figure at 0x7f3376f08198>"
      ]
     },
     "metadata": {},
     "output_type": "display_data"
    }
   ],
   "source": [
    "plt.imshow(np.flip(np.rot90(starmask,1),0))\n",
    "#plt.gcf().set_size_inches(30.5, 5.5)"
   ]
  },
  {
   "cell_type": "code",
   "execution_count": 59,
   "metadata": {
    "collapsed": true
   },
   "outputs": [],
   "source": [
    "sigclip=10\n",
    "sigfrac=0.3\n",
    "objlim=10"
   ]
  },
  {
   "cell_type": "raw",
   "metadata": {},
   "source": [
    "print(source.shape)\n",
    "\n",
    "image=np.flip(np.rot90(source,1),0) # this should follow the normal gaia convention\n",
    "plt.xlabel('Time [TDI units]')\n",
    "plt.ylabel('AC')\n",
    "plt.imshow(image, cmap='gray', norm=LogNorm(),vmax=4e3)\n",
    "plt.colorbar(orientation=\"horizontal\")\n",
    "plt.gcf().set_size_inches(30.5, 5.5)\n",
    "plt.grid(False)"
   ]
  },
  {
   "cell_type": "code",
   "execution_count": 60,
   "metadata": {
    "collapsed": true
   },
   "outputs": [],
   "source": [
    "# construct mask with astroscrappy\n",
    "imbias = np.subtract(source, bias)\n",
    "\n",
    "# apply scrappy\n",
    "(mask,clean) = astroscrappy.detect_cosmics(imbias, gain=gain, verbose=False, inmask=starmask, \n",
    "                                       satlevel=65535, readnoise=readnoise, sepmed=False, \n",
    "                                       cleantype='meanmask', fsmode='median',\n",
    "                                       sigclip=sigclip, sigfrac=sigfrac, objlim=objlim)\n",
    "\n",
    "# cosmic signal\n",
    "signal = ((imbias)*gain - clean)*mask*(1-starmask)\n",
    "# sometimes, the signal is actually lower than 0 - this is because the mean mask filter overestimated the background\n",
    "# the median mask filter does better here, but then we have the problem of not being able to work out the uncertainty\n",
    "# the problem here is that there is most likely a star nearby, and this was either a false detection, or a (very) weak cosmic\n",
    "# So, there are two ways to solve this:\n",
    "#  a) identify non-saturated stars and add them to the starmask - not sure how feasible\n",
    "#  b) just throw them away - negative energy cosmics make no sense anyway\n",
    "mask[signal<0] = 0\n",
    "signal[signal<0] = 0\n",
    "\n",
    "\n",
    "# label cosmics\n",
    "(labels, ntracks) = ndimage.measurements.label(mask, structure=(np.ones((3,3))))\n",
    "\n",
    "# object extraction\n",
    "events = ndimage.measurements.find_objects(labels)\n",
    "\n",
    "# calculate the uncertainty of the signal (mean mask + counting noise)\n",
    "# Theoretically we don't even need to calculate err_mean where we don't mask\n",
    "# but the convolution is much faster than if I were to do it via some loop\n",
    "err_mean = np.zeros(source.shape)\n",
    "\n",
    "(xmax, ymax) = source.shape\n",
    "totmask = starmask+mask    # masked pixels, including stars\n",
    "totmask[totmask==2]=1      # there should be no overlap, but to be safe\n",
    "unmasked = (imbias)*gain * (1-totmask)\n",
    "\n",
    "rad = 2   # i.e. 2 for a 5x5 filter\n",
    "\n",
    "# We need to count the number of unmasked pixels in the filter and\n",
    "# the sum of unmasked pixel values in the filter\n",
    "# This can be done very easily using convolution!\n",
    "\n",
    "kernel = np.ones((2*rad+1,2*rad+1))\n",
    "\n",
    "N_unm = convolve2d(1-totmask, kernel, mode=\"same\", boundary=\"fill\", fillvalue=0)\n",
    "N_unm[N_unm==0]=1            # we'll be dividing by this later - this stops errors\n",
    "\n",
    "var_mean = convolve2d(unmasked, kernel, mode=\"same\", boundary=\"fill\", fillvalue=0) # sum up everything around\n",
    "var_mean = (readnoise*readnoise + var_mean/N_unm)/N_unm                            # from error propagation\n",
    "\n",
    "err_mean = np.sqrt(var_mean + readnoise*readnoise + np.abs(gain*imbias))     # total mean error\n",
    "# the absolute value mistreats all the values where we're way below the gain due to noise etc.\n",
    "# there should be no cosmics there, so this is fine\n",
    "\n",
    "\n",
    "cosmics = []\n",
    "dimAL = []\n",
    "dimAC = []\n",
    "locAL = []\n",
    "locAC = []\n",
    "Etots = []\n",
    "delEtots = []\n",
    "\n",
    "# fill the data\n",
    "for ii in range(ntracks):\n",
    "    # the location\n",
    "    location = events[ii]\n",
    "    loc = ((location[0].start, location[1].start))\n",
    "\n",
    "    # the event (only for this label)\n",
    "    cosmic = np.copy(signal[location])\n",
    "    lab = labels[location]\n",
    "    cosmic[lab!=ii+1] = 0\n",
    "\n",
    "    # total energy\n",
    "    Etot = np.rint((np.sum(cosmic)))\n",
    "\n",
    "    # uncertainty on total energy\n",
    "    err = np.copy(err_mean[location])\n",
    "    err[lab!= ii+1] = 0\n",
    "    delEtot = np.rint((np.sqrt(np.sum(err**2))))\n",
    "\n",
    "    # turn the cosmic into a flattened array, but save its dimensions\n",
    "    dim = cosmic.shape\n",
    "    \n",
    "    # saving for analysis here\n",
    "    cosmics.append(cosmic)\n",
    "    dimAL.append(dim[0])\n",
    "    dimAC.append(dim[1])\n",
    "    locAL.append(loc[0])\n",
    "    locAC.append(loc[1])\n",
    "    Etots.append(Etot)\n",
    "    delEtots.append(delEtot)\n",
    "\n",
    "    \n",
    "Etots = np.array(Etots)\n",
    "delEtots = np.array(delEtots)"
   ]
  },
  {
   "cell_type": "code",
   "execution_count": 61,
   "metadata": {},
   "outputs": [
    {
     "data": {
      "image/png": "[encoded data removed]",
      "text/plain": [
       "<matplotlib.figure.Figure at 0x7f3376666eb8>"
      ]
     },
     "metadata": {},
     "output_type": "display_data"
    }
   ],
   "source": [
    "test = plt.hist(Etots,100,range=(0,30000))"
   ]
  }
 ],
 "metadata": {
  "kernelspec": {
   "display_name": "Python 3",
   "language": "python",
   "name": "python3"
  },
  "language_info": {
   "codemirror_mode": {
    "name": "ipython",
    "version": 3
   },
   "file_extension": ".py",
   "mimetype": "text/x-python",
   "name": "python",
   "nbconvert_exporter": "python",
   "pygments_lexer": "ipython3",
   "version": "3.6.1"
  }
 },
 "nbformat": 4,
 "nbformat_minor": 2
}
