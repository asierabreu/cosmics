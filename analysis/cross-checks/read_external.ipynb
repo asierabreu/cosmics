{
 "cells": [
  {
   "cell_type": "markdown",
   "metadata": {},
   "source": [
    "# Write function to read in external GOES and ACE fluxes"
   ]
  },
  {
   "cell_type": "markdown",
   "metadata": {},
   "source": [
    "Main things to do here: \n",
    "- Efficient read in\n",
    "- Converting the timestamp to some epoch\n",
    "- Converting OBMT to some epoch"
   ]
  },
  {
   "cell_type": "code",
   "execution_count": 1,
   "metadata": {
    "collapsed": true
   },
   "outputs": [],
   "source": [
    "import numpy as np\n",
    "# Set up matplotlib and use a nicer set of plot parameters\n",
    "%config InlineBackend.rc = {}\n",
    "import matplotlib\n",
    "matplotlib.rc_file(\"../../templates/matplotlibrc\")\n",
    "import matplotlib.pyplot as plt\n",
    "%matplotlib inline\n",
    "from matplotlib.colors import LogNorm"
   ]
  },
  {
   "cell_type": "code",
   "execution_count": 11,
   "metadata": {
    "collapsed": true
   },
   "outputs": [],
   "source": [
    "from astropy.time import Time\n",
    "\n",
    "source = test[0][0]\n",
    "t = source[:-2] + ':' + source[-2:] + ':00'\n",
    "\n",
    "t1 = Time(t, format='isot', scale='utc')\n",
    "#print(t)"
   ]
  },
  {
   "cell_type": "code",
   "execution_count": 75,
   "metadata": {
    "collapsed": true
   },
   "outputs": [],
   "source": [
    "def read_flux_external(filenames):\n",
    "    \"\"\"\n",
    "    Takes a list of external flux filenames and returns the acquisition times and fluxes in different bands.\n",
    "    \"\"\"\n",
    "    import numpy as np\n",
    "    import csv\n",
    "    from astropy.time import Time\n",
    "    \n",
    "    # read in the raw data - all strings\n",
    "    rawdat = []\n",
    "    for fname in filenames:\n",
    "        with open(fname, 'r') as csvfile:\n",
    "            reader = csv.reader(csvfile, delimiter=' ')\n",
    "            for row in reader:\n",
    "                rawdat.append(row)\n",
    "                \n",
    "    # convert the first columns (i.e. the timestamp) into an astropy time object\n",
    "    times = [rawdat[ii][0] for ii in range(len(rawdat))]\n",
    "    times = np.array([t[:-2] + ':' + t[-2:] + ':00' for t in times])\n",
    "    times = Time(times, format='isot', scale='utc')\n",
    "    \n",
    "    # turn all the fluxes into one array\n",
    "    ncols = len(times)\n",
    "    fluxes = np.transpose(np.array([rawdat[ii][1:ncols] for ii in range(len(rawdat))]).astype('float'))\n",
    "    \n",
    "    return times, fluxes"
   ]
  },
  {
   "cell_type": "code",
   "execution_count": 110,
   "metadata": {
    "collapsed": true
   },
   "outputs": [],
   "source": [
    "def OBMT_apyTime(obmt_in):\n",
    "    \"\"\"Assign a given OBMT to astropy time objects\"\"\"\n",
    "    from astropy.time import Time\n",
    "    # reference time: UNIX and OBMT at 2014-01-01T00:00:00\n",
    "    unix_ref = 1393445605\n",
    "    obmt_ref = 10454400000000000\n",
    "    \n",
    "    unix_out = unix_ref + (obmt_in - obmt_ref)/1e9\n",
    "    \n",
    "    out = Time(unix_out, format='unix')\n",
    "    out.format = 'isot' # may not matter\n",
    "    \n",
    "    return out"
   ]
  }
 ],
 "metadata": {
  "kernelspec": {
   "display_name": "Python 3",
   "language": "python",
   "name": "python3"
  },
  "language_info": {
   "codemirror_mode": {
    "name": "ipython",
    "version": 3
   },
   "file_extension": ".py",
   "mimetype": "text/x-python",
   "name": "python",
   "nbconvert_exporter": "python",
   "pygments_lexer": "ipython3",
   "version": "3.6.1"
  }
 },
 "nbformat": 4,
 "nbformat_minor": 2
}
