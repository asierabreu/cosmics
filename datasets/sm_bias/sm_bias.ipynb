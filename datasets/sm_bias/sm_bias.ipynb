{
 "cells": [
  {
   "cell_type": "markdown",
   "metadata": {
    "collapsed": true
   },
   "source": [
    "# The full detection chain for SM-SIF images"
   ]
  },
  {
   "cell_type": "code",
   "execution_count": 1,
   "metadata": {
    "collapsed": true
   },
   "outputs": [],
   "source": [
    "import numpy as np\n",
    "# Set up matplotlib and use a nicer set of plot parameters\n",
    "%config InlineBackend.rc = {}\n",
    "import matplotlib\n",
    "matplotlib.rc_file(\"../../templates/matplotlibrc\")\n",
    "import matplotlib.pyplot as plt\n",
    "%matplotlib inline"
   ]
  },
  {
   "cell_type": "code",
   "execution_count": 2,
   "metadata": {
    "collapsed": true
   },
   "outputs": [],
   "source": [
    "from astropy.io import fits\n",
    "import astroscrappy"
   ]
  },
  {
   "cell_type": "code",
   "execution_count": 3,
   "metadata": {
    "collapsed": true
   },
   "outputs": [],
   "source": [
    "from matplotlib.colors import LogNorm"
   ]
  },
  {
   "cell_type": "code",
   "execution_count": 4,
   "metadata": {
    "collapsed": true
   },
   "outputs": [],
   "source": [
    "import scipy.ndimage as ndimage"
   ]
  },
  {
   "cell_type": "code",
   "execution_count": 6,
   "metadata": {
    "collapsed": true
   },
   "outputs": [],
   "source": [
    "# order of CCD row and FOV in the following\n",
    "\n",
    "row = [1,1,2,2,3,3,4,4,5,5,6,6,7,7]\n",
    "fov = [1,2,1,2,1,2,1,2,1,2,1,2,1,2]"
   ]
  },
  {
   "cell_type": "markdown",
   "metadata": {},
   "source": [
    "Files"
   ]
  },
  {
   "cell_type": "code",
   "execution_count": 9,
   "metadata": {
    "collapsed": true
   },
   "outputs": [],
   "source": [
    "# first light - this was before gaia even reached L2, so temperatures may be off\n",
    "#sourcefile=(\"../../datasets/sif_fits/2014-01-03/SIF_PROCESSING_CCD_ROW_1_SM1_OBMT_START_5520130998393550_CDP_NONE.fits\")\n",
    "#sourcefile=(\"../../datasets/sif_fits/2014-01-03/SIF_PROCESSING_CCD_ROW_7_SM1_OBMT_START_5520131000359150_CDP_NONE.fits\")\n",
    "\n",
    "# chury - outreach images of a comet. However, they don't cover all rows\n",
    "#sourcefile=(\"../../datasets/sif_fits/2015-09-21/SIF_PROCESSING_CCD_ROW_1_SM2_OBMT_START_59854644999705500_CDP_NONE.fits\")\n",
    "#sourcefile=(\"../../datasets/sif_fits/2015-09-21/SIF_PROCESSING_CCD_ROW_1_SM2_OBMT_START_59854611000722300_CDP_NONE.fits\")\n",
    "#sourcefile=(\"../../datasets/sif_fits/2015-09-14/SIF_PROCESSING_CCD_ROW_3_SM2_OBMT_START_59249471998982300_CDP_NONE.fits\")\n",
    "#sourcefile=(\"../../datasets/sif_fits/2015-09-21/SIF_PROCESSING_CCD_ROW_4_SM2_OBMT_START_59832995000716700_CDP_NONE.fits\")\n",
    "#sourcefile=(\"../../datasets/sif_fits/2015-09-15/SIF_PROCESSING_CCD_ROW_5_SM1_OBMT_START_59286298999010300_CDP_NONE.fits\")\n",
    "#sourcefile=(\"../../datasets/sif_fits/2015-09-14/SIF_PROCESSING_CCD_ROW_5_SM2_OBMT_START_59271081999976700_CDP_NONE.fits\")\n",
    "#sourcefile=(\"../../datasets/sif_fits/2015-09-21/SIF_PROCESSING_CCD_ROW_6_SM1_OBMT_START_59804985000225500_CDP_NONE.fits\")\n",
    "#sourcefile=(\"../../datasets/sif_fits/2015-09-15/SIF_PROCESSING_CCD_ROW_7_SM1_OBMT_START_59307910000495100_CDP_NONE.fits\")\n",
    "#sourcefile=(\"../../datasets/sif_fits/2015-09-15/SIF_PROCESSING_CCD_ROW_7_SM1_OBMT_START_59307943999478300_CDP_NONE.fits\")\n",
    "\n",
    "# CTI measurements from SM\n",
    "ctifiles = [\n",
    "\"CI_IN_SM_2016-05-20_CCD_ROW_1_SM1_OBMT_START_80711440999891100_CDP_NONE.fits\",\n",
    "\"CI_IN_SM_2016-05-20_CCD_ROW_1_SM2_OBMT_START_80711440999891100_CDP_NONE.fits\",\n",
    "\"CI_IN_SM_2016-05-20_CCD_ROW_2_SM1_OBMT_START_80712641000656700_CDP_NONE.fits\",\n",
    "\"CI_IN_SM_2016-05-20_CCD_ROW_2_SM2_OBMT_START_80712641000656700_CDP_NONE.fits\",\n",
    "\"CI_IN_SM_2016-05-20_CCD_ROW_3_SM1_OBMT_START_80713835998970300_CDP_NONE.fits\",\n",
    "\"CI_IN_SM_2016-05-20_CCD_ROW_3_SM2_OBMT_START_80713835998970300_CDP_NONE.fits\",\n",
    "\"CI_IN_SM_2016-05-20_CCD_ROW_4_SM1_OBMT_START_80715038000716700_CDP_NONE.fits\",\n",
    "\"CI_IN_SM_2016-05-20_CCD_ROW_4_SM2_OBMT_START_80715038000716700_CDP_NONE.fits\",\n",
    "\"CI_IN_SM_2016-05-20_CCD_ROW_5_SM1_OBMT_START_80716237999516700_CDP_NONE.fits\",\n",
    "\"CI_IN_SM_2016-05-20_CCD_ROW_5_SM2_OBMT_START_80716237999516700_CDP_NONE.fits\",\n",
    "\"CI_IN_SM_2016-05-20_CCD_ROW_6_SM1_OBMT_START_80717438000282300_CDP_NONE.fits\",\n",
    "\"CI_IN_SM_2016-05-20_CCD_ROW_6_SM2_OBMT_START_80717438000282300_CDP_NONE.fits\",\n",
    "\"CI_IN_SM_2016-05-20_CCD_ROW_7_SM1_OBMT_START_80718637999082300_CDP_NONE.fits\",\n",
    "\"CI_IN_SM_2016-05-20_CCD_ROW_7_SM2_OBMT_START_80718637999082300_CDP_NONE.fits\"\n",
    "]"
   ]
  },
  {
   "cell_type": "markdown",
   "metadata": {},
   "source": [
    "Gains"
   ]
  },
  {
   "cell_type": "code",
   "execution_count": 10,
   "metadata": {
    "collapsed": true
   },
   "outputs": [],
   "source": [
    "# in the same order as above, in units of e-/ADU\n",
    "# this is from Cian's E-Mail\n",
    "\n",
    "gains = [\n",
    "3.85356454721,\n",
    "4.02576489533,\n",
    "3.94321766562,\n",
    "3.93081761006,\n",
    "3.69822485207,\n",
    "4.02900886382,\n",
    "4.00480576692,\n",
    "3.86249517188,\n",
    "3.98089171975,\n",
    "3.95413206801,\n",
    "3.83877159309,\n",
    "3.61794500724,\n",
    "3.84467512495,\n",
    "3.89711613406\n",
    "]"
   ]
  },
  {
   "cell_type": "markdown",
   "metadata": {},
   "source": [
    "Determine readnoise and bias"
   ]
  },
  {
   "cell_type": "code",
   "execution_count": 11,
   "metadata": {
    "collapsed": true
   },
   "outputs": [],
   "source": [
    "def sm_readnoise_bias(file, gain):\n",
    "    \"\"\"\n",
    "    Extract the readnoise in e- and bias in ADU from the CTI measurement file.\n",
    "    The bias includes the prescan column.\n",
    "    \"\"\"\n",
    "    import numpy as np\n",
    "    from astropy.io.fits import getdata\n",
    "    from scipy.stats import trim1\n",
    "\n",
    "    \n",
    "    darkframe = getdata(file)[1500:4500,:]   # this is roughly the region where gate 1 is set\n",
    "    \n",
    "    # the bias\n",
    "    bias = np.median(darkframe, axis=0)\n",
    "    \n",
    "    # the readnoise, from the prescan column\n",
    "    # bias must be subtracted, then\n",
    "    # throw away far outliers, in case of cosmics\n",
    "    prescan = darkframe[:,:7]\n",
    "    prescan = np.subtract(prescan, bias[:7])\n",
    "    rnoise = np.std(trim1(prescan,0.01,\"right\"))   \n",
    "    \n",
    "    return gain*rnoise, bias"
   ]
  },
  {
   "cell_type": "code",
   "execution_count": 12,
   "metadata": {
    "collapsed": true
   },
   "outputs": [],
   "source": [
    "noises = np.empty(len(row))\n",
    "biases = []"
   ]
  },
  {
   "cell_type": "code",
   "execution_count": 13,
   "metadata": {
    "collapsed": true
   },
   "outputs": [],
   "source": [
    "for ii in range(len(row)):\n",
    "    (noises[ii], bias) = sm_readnoise_bias(ctifiles[ii],gains[ii])\n",
    "    biases.append(bias)"
   ]
  },
  {
   "cell_type": "code",
   "execution_count": 14,
   "metadata": {
    "collapsed": true
   },
   "outputs": [],
   "source": [
    "biases = np.array(biases)"
   ]
  },
  {
   "cell_type": "code",
   "execution_count": 15,
   "metadata": {},
   "outputs": [
    {
     "data": {
      "text/plain": [
       "[<matplotlib.lines.Line2D at 0x7f84ac0f9588>]"
      ]
     },
     "execution_count": 15,
     "metadata": {},
     "output_type": "execute_result"
    },
    {
     "data": {
      "image/png": "[encoded data removed]",
      "text/plain": [
       "<matplotlib.figure.Figure at 0x7f84afe12518>"
      ]
     },
     "metadata": {},
     "output_type": "display_data"
    }
   ],
   "source": [
    "plt.plot(noises)"
   ]
  },
  {
   "cell_type": "markdown",
   "metadata": {},
   "source": [
    "Write everything into a simple fits file"
   ]
  },
  {
   "cell_type": "code",
   "execution_count": 16,
   "metadata": {
    "collapsed": true
   },
   "outputs": [],
   "source": [
    "nrows = len(row)\n",
    "\n",
    "colrow = fits.Column(name=\"CCD_ROW\", array=row, format=\"I\")\n",
    "colfov = fits.Column(name=\"FOV\", array=fov, format=\"I\")\n",
    "\n",
    "colbias = fits.Column(name=\"BIAS\", array=biases, format=str(biases.shape[1])+\"I\",\n",
    "                      unit=\"ADU\")\n",
    "colgain = fits.Column(name=\"GAIN\", array=gains, format=\"E\", unit=\"e-/ADU\")\n",
    "colrnoise = fits.Column(name=\"RNOISE\",array=noises, format=\"E\", unit=\"e-\")\n"
   ]
  },
  {
   "cell_type": "code",
   "execution_count": 17,
   "metadata": {
    "collapsed": true
   },
   "outputs": [],
   "source": [
    "t = fits.BinTableHDU.from_columns([colrow,colfov,colbias,colgain,colrnoise])\n",
    "t.name=\"DATA\"\n",
    "\n",
    "t.header.comments[\"TTYPE1\"] = \"CCD ROW\"\n",
    "t.header.comments[\"TTYPE2\"] = \"Field of View\"\n",
    "t.header.comments[\"TTYPE3\"] = \"AC dependent bias [ADU]\"\n",
    "t.header.comments[\"TTYPE4\"] = \"CCD gain [e-/ADU]\"\n",
    "t.header.comments[\"TTYPE5\"] = \"CCD readnoise [e-]\""
   ]
  },
  {
   "cell_type": "code",
   "execution_count": 18,
   "metadata": {
    "collapsed": true
   },
   "outputs": [],
   "source": [
    "t.writeto(\"sm_calibdat.fits\",overwrite=True)"
   ]
  },
  {
   "cell_type": "code",
   "execution_count": null,
   "metadata": {
    "collapsed": true
   },
   "outputs": [],
   "source": []
  }
 ],
 "metadata": {
  "kernelspec": {
   "display_name": "Python 3",
   "language": "python",
   "name": "python3"
  },
  "language_info": {
   "codemirror_mode": {
    "name": "ipython",
    "version": 3
   },
   "file_extension": ".py",
   "mimetype": "text/x-python",
   "name": "python",
   "nbconvert_exporter": "python",
   "pygments_lexer": "ipython3",
   "version": "3.6.1"
  }
 },
 "nbformat": 4,
 "nbformat_minor": 2
}
