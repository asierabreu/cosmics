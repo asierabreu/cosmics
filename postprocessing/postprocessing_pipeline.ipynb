{
 "cells": [
  {
   "cell_type": "code",
   "execution_count": 1,
   "metadata": {
    "collapsed": true
   },
   "outputs": [],
   "source": [
    "import numpy as np\n",
    "# Set up matplotlib and use a nicer set of plot parameters\n",
    "%config InlineBackend.rc = {}\n",
    "import matplotlib\n",
    "matplotlib.rc_file(\"../templates/matplotlibrc\")\n",
    "import matplotlib.pyplot as plt\n",
    "%matplotlib inline\n",
    "from matplotlib.colors import LogNorm"
   ]
  },
  {
   "cell_type": "code",
   "execution_count": 2,
   "metadata": {
    "collapsed": true
   },
   "outputs": [],
   "source": [
    "import os\n",
    "import sys\n",
    "sys.path.insert(0, os.path.abspath('../lib/TrackObs/'))\n",
    "sys.path.insert(0, os.path.abspath('../lib/CosmicObservation/'))\n",
    "from CosmicObservation import *\n",
    "\n",
    "import glob\n",
    "import re\n",
    "from astropy.io import fits"
   ]
  },
  {
   "cell_type": "code",
   "execution_count": 8,
   "metadata": {
    "collapsed": true
   },
   "outputs": [],
   "source": [
    "#source = 'BAM-OBS'\n",
    "#infiles = [sorted(glob.glob('../output/BAM/2017/09/14/BAM-OBS1*'))[0]]\n",
    "\n",
    "#source = 'BAM-SIF'\n",
    "#infiles = [sorted(glob.glob('../output/BAM-SIF/2016/01/03/BAM-SIF_OBMT_START_68788023940519100.fits'))[0]]\n",
    "\n",
    "source = 'SM-SIF'\n",
    "infiles = sorted(glob.glob('../output/SM/2017/09/14/*'))\n",
    "\n",
    "\n",
    "tread = []\n",
    "tprocess = []\n",
    "twrite = []\n",
    "\n",
    "import time\n",
    "tt = time.time()\n",
    "def tstep():\n",
    "    global tt\n",
    "    tnew = time.time()\n",
    "    tstep = tnew-tt\n",
    "    tt = tnew\n",
    "    return tstep\n",
    "\n",
    "for f in infiles:\n",
    "    # read the data\n",
    "    trobslist = read_Obslist_fits(f)\n",
    "\n",
    "    tread.append(tstep())\n",
    "\n",
    "    cobslist = []\n",
    "\n",
    "    for ii in range(len(trobslist)):\n",
    "        trobs = trobslist[ii]\n",
    "        cobs = CosmicObservation.from_TrackObs(trobs)\n",
    "        cobslist.append(cobs)\n",
    "        \n",
    "\n",
    "    tprocess.append(tstep())\n",
    "\n",
    "    \n",
    "    write_list_to_fits(cobslist, 'tmp_output/'+source+'_{}.fits'.format(int(cobslist[0].acqTime)))\n",
    "    twrite.append(tstep())"
   ]
  },
  {
   "cell_type": "code",
   "execution_count": 12,
   "metadata": {},
   "outputs": [
    {
     "data": {
      "text/plain": [
       "'2018-01-18T18:46:12.580'"
      ]
     },
     "execution_count": 12,
     "metadata": {},
     "output_type": "execute_result"
    }
   ],
   "source": [
    "OBMT_apyTime(133309970788532304).isot"
   ]
  },
  {
   "cell_type": "code",
   "execution_count": 9,
   "metadata": {},
   "outputs": [
    {
     "name": "stdout",
     "output_type": "stream",
     "text": [
      "Reading 0.457432746887\n",
      "Processing 0.956164121628\n",
      "Writing 0.238836765289\n",
      "Total time: 1.6524336338\n"
     ]
    },
    {
     "data": {
      "image/png": "[encoded data removed]",
      "text/plain": [
       "<matplotlib.figure.Figure at 0x7fd7ae08c518>"
      ]
     },
     "metadata": {},
     "output_type": "display_data"
    }
   ],
   "source": [
    "h1 = plt.hist(tread,50,range=(0,10),label='reading')\n",
    "h2 = plt.hist(tprocess,50,range=(0,10),label='processing')\n",
    "h3 = plt.hist(twrite,50,range=(0,10),label='writing',alpha=0.6)\n",
    "\n",
    "plt.legend(loc='best')\n",
    "\n",
    "print('Reading', np.sum(tread))\n",
    "print('Processing', np.sum(tprocess))\n",
    "print('Writing', np.sum(twrite))\n",
    "\n",
    "print('Total time:',np.sum(tread+tprocess+twrite))"
   ]
  }
 ],
 "metadata": {
  "kernelspec": {
   "display_name": "Python 3",
   "language": "python",
   "name": "python3"
  },
  "language_info": {
   "codemirror_mode": {
    "name": "ipython",
    "version": 3
   },
   "file_extension": ".py",
   "mimetype": "text/x-python",
   "name": "python",
   "nbconvert_exporter": "python",
   "pygments_lexer": "ipython3",
   "version": "3.6.1"
  }
 },
 "nbformat": 4,
 "nbformat_minor": 2
}
