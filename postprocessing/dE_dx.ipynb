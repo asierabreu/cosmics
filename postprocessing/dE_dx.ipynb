{
 "cells": [
  {
   "cell_type": "markdown",
   "metadata": {},
   "source": [
    "It may be possible to extract the particle energies from some tracks by analyzing their dE/dx.\n",
    "\n",
    "This can be done by selecting long tracks (threshold TBD) and just making a histogram over their nonzero pixels and then fitting a distro.\n",
    "\n",
    "However, the energy/sample is not just dE/dx, it is instead very angle dependent, due to the shape of our samples (pixel shape and binning).\n",
    "\n",
    "So, we must essentially recover dE/sample and sample/dx(alpha,theta)"
   ]
  },
  {
   "cell_type": "code",
   "execution_count": 1,
   "metadata": {
    "collapsed": true
   },
   "outputs": [],
   "source": [
    "import numpy as np\n",
    "# Set up matplotlib and use a nicer set of plot parameters\n",
    "%config InlineBackend.rc = {}\n",
    "import matplotlib\n",
    "matplotlib.rc_file(\"../templates/matplotlibrc\")\n",
    "import matplotlib.pyplot as plt\n",
    "%matplotlib inline\n",
    "from matplotlib.colors import LogNorm"
   ]
  },
  {
   "cell_type": "code",
   "execution_count": 2,
   "metadata": {
    "collapsed": true
   },
   "outputs": [],
   "source": [
    "from analysis_funcs import *"
   ]
  },
  {
   "cell_type": "markdown",
   "metadata": {},
   "source": [
    "The following functions extract the dE/dx - for the development of them, see below"
   ]
  },
  {
   "cell_type": "code",
   "execution_count": 22,
   "metadata": {
    "collapsed": true
   },
   "outputs": [],
   "source": [
    "def linefunc(pars, x):\n",
    "    \"\"\"\n",
    "    pars is an array of [theta,y0], with theta given in degrees\n",
    "    \"\"\"\n",
    "    return np.tan(pars[0]*np.pi/180)*x + pars[1]\n",
    "\n",
    "def angle_linefit(track, pixratio=1):\n",
    "    \"\"\"\n",
    "    Determine the angle of the track with respect to axis 0.\n",
    "    In case of non-quadratic pixels, pixratio gives the ratio of pixel lengths in axis 1 to axis 0 \n",
    "    (so in case of Gaia, AC/AL including binnning)\n",
    "    \"\"\"\n",
    "    \n",
    "    dim0, dim1 = track.shape\n",
    "    \n",
    "    # we will form an x/y value pairs\n",
    "    # the for the shorter axis (Gaia: Usually AC, so y), we calculate the center of mass at each value of the longer axis\n",
    "    \n",
    "    from scipy.ndimage.measurements import center_of_mass\n",
    "    \n",
    "    if dim0 >= dim1:\n",
    "        labels = np.zeros((dim0,dim1)) + np.transpose(np.array([range(dim0)]))\n",
    "        cms = (center_of_mass(track, labels, range(dim0)))\n",
    "        if dim1==1:\n",
    "            # add a little scatter to dim1\n",
    "            yvals = (np.random.random(dim0)-0.5)*0.01\n",
    "            cms = [(cms[ii][0],yvals[ii]) for ii in range(dim0)]                \n",
    "    else:\n",
    "        labels = np.zeros((dim0,dim1)) + np.array([range(dim1)])\n",
    "        cms = (center_of_mass(track, labels, range(dim1)))\n",
    "        if dim0==1:\n",
    "            # add a little scatter to dim0\n",
    "            xvals = (np.random.random(dim1)-0.5)*0.01\n",
    "            cms = [(xvals[ii],cms[ii][1]) for ii in range(dim1)]\n",
    "                \n",
    "    x = np.array([c[0] for c in cms])\n",
    "    y = np.array([c[1] for c in cms])* pixratio\n",
    "    \n",
    "    # TODO erros should be calculated more intelligently\n",
    "    dx = np.zeros(x.shape)+0.5\n",
    "    dy = np.zeros(y.shape)+pixratio/2\n",
    "\n",
    "    \n",
    "    from scipy import odr\n",
    "    \n",
    "    linemodel = odr.Model(linefunc)\n",
    "    fitdat = odr.RealData(x, y, sx=dx, sy=dy)\n",
    "\n",
    "    myodr = odr.ODR(fitdat, linemodel, beta0=[0., 0.])\n",
    "    myoutput = myodr.run()\n",
    "    \n",
    "    #plt.errorbar(x,y,xerr=dx,yerr=dy)\n",
    "    return myoutput.beta[0], myoutput.sd_beta[0]\n",
    "\n",
    "def sample_distance(theta, bin_AL, bin_AC):\n",
    "    thetacrit = np.arctan(3*bin_AC / (bin_AL))\n",
    "\n",
    "    if np.abs(theta) <= thetacrit:\n",
    "        return 10 * bin_AL / np.cos(np.abs(theta))\n",
    "    else:\n",
    "        return 30 * bin_AC / np.sin(np.abs(theta))\n",
    "    \n",
    "\n",
    "def track_dE_dx(flat_track, gain, dim_AL, dim_AC, bin_AL, bin_AC):\n",
    "    \"\"\"\n",
    "    Recover dE/dx from a flattened cosmic ray track in units of MeV cm^2/g\n",
    "    \"\"\"\n",
    "    track = np.reshape(flat_track,(dim_AL,dim_AC))*obslist[iobs].gain\n",
    "        \n",
    "    theta = angle_linefit(track, 3*bin_AC/bin_AL)[0]*np.pi/180\n",
    "    print('theta:',theta*180/np.pi)\n",
    "    \n",
    "    dx = sample_distance(theta, bin_AL, bin_AC)\n",
    "    \n",
    "    # dE/dx = Measured electrons * e/h pair creation energy / dx -> eV / mum\n",
    "    # converting to MeV cm^2/g then requires a factor 10^-2 and dividing by density\n",
    "    \n",
    "    return track[track>0]*3.68/dx/100/2.32\n",
    "                 "
   ]
  },
  {
   "cell_type": "code",
   "execution_count": 4,
   "metadata": {},
   "outputs": [
    {
     "name": "stdout",
     "output_type": "stream",
     "text": [
      "Nr. Observations: 150\n"
     ]
    }
   ],
   "source": [
    "# SM\n",
    "obslist = read_Obslist_fits('../output/2016/12/07/SM-SIF_OBMT_START_98084005999790300.fits')\n",
    "bin_AL = 2\n",
    "bin_AC = 2\n",
    "\n",
    "# BAM\n",
    "#obslist = read_Obslist_fits('../analysis/bam/output/2017-07-03/BAM-OBS1_OBMT_START_115999323050548704.fits')\n",
    "#bin_AL = 1\n",
    "#bin_AC = 4\n",
    "\n",
    "# BAM-SIF\n",
    "#obslist = read_Obslist_fits('../analysis/bam_sif/output/BAM-SIF1_2014.fits')\n",
    "#bin_AL = 1\n",
    "#bin_AC = 4\n",
    "\n",
    "print('Nr. Observations:',len(obslist))"
   ]
  },
  {
   "cell_type": "code",
   "execution_count": 14,
   "metadata": {},
   "outputs": [
    {
     "name": "stdout",
     "output_type": "stream",
     "text": [
      "Nr. interesting observations: 2\n"
     ]
    }
   ],
   "source": [
    "longobs = []\n",
    "\n",
    "for ii in range(len(obslist)):\n",
    "    if (len(obslist[ii].data) == 0):\n",
    "        continue\n",
    "    trackpix = np.array([np.sum(t>0) for t in obslist[ii].data['TRACK']])\n",
    "    valids = np.max(trackpix)\n",
    "    if valids >=100 and valids<1000:\n",
    "    #if valids >=40:\n",
    "        longobs.append(ii)\n",
    "\n",
    "print('Nr. interesting observations:', len(longobs))"
   ]
  },
  {
   "cell_type": "code",
   "execution_count": 24,
   "metadata": {},
   "outputs": [
    {
     "name": "stdout",
     "output_type": "stream",
     "text": [
      "Nr. of samples: 174\n"
     ]
    }
   ],
   "source": [
    "iobs = longobs[1]\n",
    "\n",
    "#itrack = np.argmax(np.sqrt((20*obslist[iobs].data['DIM_AL'])**2 + (60*obslist[iobs].data['DIM_AC'])**2))\n",
    "#itrack = np.argmax(obslist[iobs].data['DIM_AL'])\n",
    "itrack = np.argmax([np.sum(t>0) for t in obslist[iobs].data['TRACK']])\n",
    "\n",
    "print(\"Nr. of samples:\",np.sum(obslist[iobs].data[itrack]['TRACK']>0))"
   ]
  },
  {
   "cell_type": "code",
   "execution_count": 25,
   "metadata": {},
   "outputs": [
    {
     "name": "stdout",
     "output_type": "stream",
     "text": [
      "Track Energy: 1074936\n",
      "Per pixel: 6177.79310345\n"
     ]
    },
    {
     "data": {
      "image/png": "[encoded data removed]",
      "text/plain": [
       "<matplotlib.figure.Figure at 0x7fabb7b2dcf8>"
      ]
     },
     "metadata": {},
     "output_type": "display_data"
    }
   ],
   "source": [
    "# view the track\n",
    "\n",
    "track = np.reshape(obslist[iobs].data[itrack]['TRACK'],\n",
    "                 (obslist[iobs].data[itrack]['DIM_AL'],obslist[iobs].data[itrack]['DIM_AC']))*obslist[iobs].gain\n",
    "\n",
    "plt.imshow(np.rot90(track+1), norm=LogNorm())\n",
    "\n",
    "print(\"Track Energy:\", obslist[iobs].data[itrack]['TRACK_EN'])\n",
    "print(\"Per pixel:\", obslist[iobs].data[itrack]['TRACK_EN']/np.sum(obslist[iobs].data[itrack]['TRACK']>0))"
   ]
  },
  {
   "cell_type": "code",
   "execution_count": 26,
   "metadata": {},
   "outputs": [
    {
     "name": "stdout",
     "output_type": "stream",
     "text": [
      "theta: -47.306530823\n",
      "Mean (Excluding below 0.5): 4.04741320831\n",
      "MIP: 1.664\n"
     ]
    },
    {
     "data": {
      "image/png": "[encoded data removed]",
      "text/plain": [
       "<matplotlib.figure.Figure at 0x7fabb7a7f5c0>"
      ]
     },
     "metadata": {},
     "output_type": "display_data"
    }
   ],
   "source": [
    "dE_dx = track_dE_dx(obslist[iobs].data[itrack]['TRACK'],obslist[iobs].gain,\n",
    "                    obslist[iobs].data[itrack]['DIM_AL'],obslist[iobs].data[itrack]['DIM_AC'],\n",
    "                    bin_AL, bin_AC)\n",
    "\n",
    "testhist = plt.hist(dE_dx,100)\n",
    "\n",
    "plt.xlabel(\"dE/dx [MeV cm^2 g^-1]\")\n",
    "\n",
    "print(\"Mean (Excluding below 0.5):\",np.mean(dE_dx[dE_dx > .5]))\n",
    "print(\"MIP:\",1.664)"
   ]
  },
  {
   "cell_type": "code",
   "execution_count": 438,
   "metadata": {},
   "outputs": [
    {
     "data": {
      "text/plain": [
       "1.6724137931034484"
      ]
     },
     "execution_count": 438,
     "metadata": {},
     "output_type": "execute_result"
    }
   ],
   "source": [
    "388/100/2.32"
   ]
  },
  {
   "cell_type": "code",
   "execution_count": 439,
   "metadata": {
    "collapsed": true
   },
   "outputs": [],
   "source": [
    "obs = obslist[iobs]"
   ]
  },
  {
   "cell_type": "markdown",
   "metadata": {},
   "source": [
    " # Code step for step"
   ]
  },
  {
   "cell_type": "markdown",
   "metadata": {},
   "source": [
    "To get the correct geometry, try to unbin the the track"
   ]
  },
  {
   "cell_type": "code",
   "execution_count": 73,
   "metadata": {},
   "outputs": [
    {
     "data": {
      "text/plain": [
       "<matplotlib.image.AxesImage at 0x7f405a970048>"
      ]
     },
     "execution_count": 73,
     "metadata": {},
     "output_type": "execute_result"
    },
    {
     "data": {
      "image/png": "[encoded data removed]",
      "text/plain": [
       "<matplotlib.figure.Figure at 0x7f40586e8cc0>"
      ]
     },
     "metadata": {},
     "output_type": "display_data"
    }
   ],
   "source": [
    "piximg = unbin(track,bin_AL,bin_AC*3)\n",
    "\n",
    "plt.imshow(np.rot90(piximg>0))"
   ]
  },
  {
   "cell_type": "markdown",
   "metadata": {},
   "source": [
    "In this case, we reverse the binning and just distribute the average of all energies onto 10x10 $\\mu$m subpixels\n",
    "\n",
    "From this thing, we should be able to determine the angles..."
   ]
  },
  {
   "cell_type": "code",
   "execution_count": 74,
   "metadata": {},
   "outputs": [
    {
     "name": "stdout",
     "output_type": "stream",
     "text": [
      "-49.7765363128\n"
     ]
    }
   ],
   "source": [
    "from skimage.transform import (hough_line, hough_line_peaks,\n",
    "                               probabilistic_hough_line)\n",
    "\n",
    "h, th, d = hough_line(piximg)\n",
    "\n",
    "theta = hough_line_peaks(h, th, d)[1][0] # may need to be smarter about picking the peak here\n",
    "\n",
    "print(theta* 180/np.pi)"
   ]
  },
  {
   "cell_type": "code",
   "execution_count": 75,
   "metadata": {},
   "outputs": [
    {
     "data": {
      "text/plain": [
       "49.882759563833055"
      ]
     },
     "execution_count": 75,
     "metadata": {},
     "output_type": "execute_result"
    }
   ],
   "source": [
    "np.arctan(piximg.shape[1]/piximg.shape[0])*180/np.pi"
   ]
  },
  {
   "cell_type": "markdown",
   "metadata": {},
   "source": [
    "-> The angle from my approximation and the hugh transform seem to be similar, but I don't pick up the sign. The breakdown point is probably for smaller tracks."
   ]
  },
  {
   "cell_type": "markdown",
   "metadata": {},
   "source": [
    "To get the distance in the sample, there are some boundary cases:\n",
    "\n",
    "- The cosmic crosses AL entirely, but not AC\n",
    "\n",
    "- The cosmic crosses AC entirely, but not AL\n",
    "\n",
    "There is also the inbetween case of the cosmic crossing the sample in AL and AC exactly. This is at the angle\n",
    "\n",
    "$\\theta_\\mathrm{crit} = \\arctan \\frac{3 ~ \\mathrm{binAC}}{1 ~ \\mathrm{binAL}}$\n",
    "\n",
    "Then:\n",
    " - if $|\\theta| < \\theta_\\mathrm{crit}$: AL is crossed entirely, $l = \\frac{10\\, \\mu m \\cdot binAL}{\\cos(\\theta)}$\n",
    " - if $|\\theta| > \\theta_\\mathrm{crit}$: AC is crossed entirely, $l = \\frac{30\\, \\mu m \\cdot binAC}{\\sin(\\theta)}$"
   ]
  },
  {
   "cell_type": "code",
   "execution_count": 76,
   "metadata": {
    "collapsed": true
   },
   "outputs": [],
   "source": [
    "thetacrit = np.arctan(3*bin_AC / (bin_AL))\n",
    "\n",
    "if np.abs(theta) <= thetacrit:\n",
    "    sampdist = 10 * bin_AL / np.cos(np.abs(theta))\n",
    "else:\n",
    "    sampdist = 30 * bin_AC / np.sin(np.abs(theta))"
   ]
  },
  {
   "cell_type": "code",
   "execution_count": 77,
   "metadata": {},
   "outputs": [
    {
     "data": {
      "text/plain": [
       "85.236358309273825"
      ]
     },
     "execution_count": 77,
     "metadata": {},
     "output_type": "execute_result"
    }
   ],
   "source": [
    "thetacrit*180/np.pi"
   ]
  },
  {
   "cell_type": "code",
   "execution_count": 78,
   "metadata": {},
   "outputs": [
    {
     "data": {
      "text/plain": [
       "-49.776536312849167"
      ]
     },
     "execution_count": 78,
     "metadata": {},
     "output_type": "execute_result"
    }
   ],
   "source": [
    "theta*180/np.pi"
   ]
  },
  {
   "cell_type": "code",
   "execution_count": 79,
   "metadata": {},
   "outputs": [
    {
     "name": "stdout",
     "output_type": "stream",
     "text": [
      "15.4853794091\n",
      "15.9936542242\n"
     ]
    }
   ],
   "source": [
    "print(sampdist)\n",
    "print(np.sqrt(sampdist**2 + 4**2))"
   ]
  },
  {
   "cell_type": "markdown",
   "metadata": {},
   "source": [
    "For long tracks, the depth crossed does not matter"
   ]
  },
  {
   "cell_type": "code",
   "execution_count": 80,
   "metadata": {},
   "outputs": [
    {
     "data": {
      "text/plain": [
       "<matplotlib.text.Text at 0x7f405a9de198>"
      ]
     },
     "execution_count": 80,
     "metadata": {},
     "output_type": "execute_result"
    },
    {
     "data": {
      "image/png": "[encoded data removed]",
      "text/plain": [
       "<matplotlib.figure.Figure at 0x7f40593ecb70>"
      ]
     },
     "metadata": {},
     "output_type": "display_data"
    }
   ],
   "source": [
    "testhist = plt.hist(track[track>0]*3.68/sampdist/100/2.32,20)\n",
    "\n",
    "plt.xlabel(\"dE/dx [MeV cm^2 g^-1]\")"
   ]
  },
  {
   "cell_type": "code",
   "execution_count": 24,
   "metadata": {},
   "outputs": [
    {
     "name": "stdout",
     "output_type": "stream",
     "text": [
      "1.04243081377\n"
     ]
    }
   ],
   "source": [
    "print(np.median(track[track>0]*3.6/sampdist/100/2.32))"
   ]
  }
 ],
 "metadata": {
  "kernelspec": {
   "display_name": "Python 3",
   "language": "python",
   "name": "python3"
  },
  "language_info": {
   "codemirror_mode": {
    "name": "ipython",
    "version": 3
   },
   "file_extension": ".py",
   "mimetype": "text/x-python",
   "name": "python",
   "nbconvert_exporter": "python",
   "pygments_lexer": "ipython3",
   "version": "3.6.1"
  }
 },
 "nbformat": 4,
 "nbformat_minor": 2
}
