{
 "cells": [
  {
   "cell_type": "code",
   "execution_count": 1,
   "metadata": {
    "collapsed": true
   },
   "outputs": [],
   "source": [
    "import numpy as np\n",
    "# Set up matplotlib and use a nicer set of plot parameters\n",
    "%config InlineBackend.rc = {}\n",
    "import matplotlib\n",
    "matplotlib.rc_file(\"../templates/matplotlibrc\")\n",
    "import matplotlib.pyplot as plt\n",
    "%matplotlib inline\n",
    "from matplotlib.colors import LogNorm"
   ]
  },
  {
   "cell_type": "code",
   "execution_count": 2,
   "metadata": {
    "collapsed": true
   },
   "outputs": [],
   "source": [
    "from analysis_funcs import *"
   ]
  },
  {
   "cell_type": "markdown",
   "metadata": {},
   "source": [
    "# Theta Definition"
   ]
  },
  {
   "cell_type": "markdown",
   "metadata": {},
   "source": [
    "-> Tikz"
   ]
  },
  {
   "cell_type": "markdown",
   "metadata": {},
   "source": [
    "# 1D Tracks"
   ]
  },
  {
   "cell_type": "code",
   "execution_count": 3,
   "metadata": {},
   "outputs": [
    {
     "data": {
      "image/png": "[encoded data removed]",
      "text/plain": [
       "<matplotlib.figure.Figure at 0x7f0f0efc2cf8>"
      ]
     },
     "metadata": {},
     "output_type": "display_data"
    }
   ],
   "source": [
    "emptrow = list(np.zeros(201))\n",
    "fullrow = np.ones(201)\n",
    "fullrow[::20] = 0\n",
    "fullrow = list(fullrow)\n",
    "mytrack = np.array([emptrow,fullrow,fullrow,emptrow])\n",
    "\n",
    "plt.plot([1,199],[0.5,2.5],color='xkcd:red',linewidth=2)\n",
    "\n",
    "plt.plot([19,181],[1.5,1.5],color='xkcd:blue',linewidth=2)\n",
    "\n",
    "plt.imshow(mytrack,aspect=20,cmap='gray',origin=[1,1])\n",
    "plt.grid(False)\n",
    "plt.tick_params(axis='both',left=False, bottom=False,labelleft=False,labelbottom=False)\n",
    "\n",
    "plt.gcf().set_size_inches(7.5,3)\n",
    "\n",
    "#plt.savefig(\"../docs/cat_documentation/images/postprocessing/1D_angle.pdf\",bbox_inches='tight')"
   ]
  },
  {
   "cell_type": "markdown",
   "metadata": {},
   "source": [
    "# 2D Fitting"
   ]
  },
  {
   "cell_type": "code",
   "execution_count": 4,
   "metadata": {
    "collapsed": true
   },
   "outputs": [],
   "source": [
    "def extract_track(obs, ii):\n",
    "    \"\"\"\n",
    "    Extract and reshape a track from TrackObs obs at index ii.\n",
    "    Output track is in units of electrons\n",
    "    \"\"\"\n",
    "    return np.reshape(obs.data[ii][\"TRACK\"],(obs.data[ii][\"DIM_AL\"],obs.data[ii][\"DIM_AC\"]))*obs.gain"
   ]
  },
  {
   "cell_type": "code",
   "execution_count": 5,
   "metadata": {
    "collapsed": true
   },
   "outputs": [],
   "source": [
    "def linefunc_m(pars, x):\n",
    "    \"\"\"\n",
    "    pars is an array of [slope,y0], the equation being slope*x + y0\n",
    "    \"\"\"\n",
    "    return pars[0]*x + pars[1]\n",
    "\n",
    "def angle_linefit_show(intrack, pixratio=1):\n",
    "    \"\"\"\n",
    "    Showcase the line fitting algorithm. Returns the x and y arrays as well as the \n",
    "    \"\"\"\n",
    "    # the input track may have some rows/colums with zero values\n",
    "    # remove those\n",
    "    goodx = np.max(intrack,axis=1)>0\n",
    "    goody = np.max(intrack,axis=0)>0\n",
    "    track = intrack[np.where(goodx)[0],:]\n",
    "    track = track[:,np.where(goody)[0]]\n",
    "    \n",
    "    dim0, dim1 = track.shape\n",
    "    \n",
    "    # We will form an x/y value pairs, with x being along axis 0, y being along axis 1\n",
    "    # the values of the longer axis (i.e. more pixels) will just be the pixel coordinates\n",
    "    # the values of the shorter axis will be the center of mass for each row/column\n",
    "    \n",
    "    from scipy.ndimage.measurements import center_of_mass\n",
    "    \n",
    "    if dim0 >= dim1:\n",
    "        labels = np.zeros((dim0,dim1)) + np.transpose(np.array([range(dim0)]))\n",
    "        cms = (center_of_mass(track, labels, range(dim0)))              \n",
    "    else:\n",
    "        labels = np.zeros((dim0,dim1)) + np.array([range(dim1)])\n",
    "        cms = (center_of_mass(track, labels, range(dim1)))\n",
    "        \n",
    "    # set x and y from the centers of mass and subtract offset so the middle value is (0,0)\n",
    "    x = (np.array([c[0] for c in cms]) - (dim0-1)/2)\n",
    "    y = (np.array([c[1] for c in cms]) - (dim1-1)/2)* pixratio\n",
    "    \n",
    "    # TODO erros should be calculated more intelligently\n",
    "    dx = np.zeros(x.shape)+0.5\n",
    "    dy = np.zeros(y.shape)+pixratio/2\n",
    "    \n",
    "    # Estimation of the angle and the length\n",
    "\n",
    "    ## Angle\n",
    "    # get the slope via a fit\n",
    "\n",
    "    from scipy import odr\n",
    "\n",
    "    linemodel = odr.Model(linefunc_m)\n",
    "\n",
    "    fitdat = odr.RealData(x, y, sx=dx, sy=dy)\n",
    "\n",
    "    # give a rough starting value for theta\n",
    "    slopestart = (y[-1]-y[0])/(max([x[-1]-x[0],1]))\n",
    "\n",
    "    myodr = odr.ODR(fitdat, linemodel, beta0=[slopestart, 0.])\n",
    "    myoutput = myodr.run()\n",
    "    slope = myoutput.beta[0]\n",
    "    sd_slope = myoutput.sd_beta[0]\n",
    "\n",
    "    theta = np.arctan(slope) * 180/np.pi\n",
    "    sd_theta = sd_slope/(1+slope**2) * 180/np.pi\n",
    "\n",
    "    ## Length\n",
    "    # pre-compute some exponents of the slope\n",
    "    slope2 = slope**2\n",
    "    slope4 = slope**4\n",
    "    slope6 = slope**6\n",
    "    # depending on which axis was used to fit, calculate the length differently\n",
    "    if dim0>=dim1:\n",
    "        tracklen = np.abs(x[-1]-x[0]) * np.sqrt(slope2+1)\n",
    "        sd_tracklen = np.sqrt((slope2+1) * (dx[-1]**2+dx[0]**2)\n",
    "                              + (x[-1]-x[0])**2 * (slope2/(1+slope2)) * sd_slope**2)\n",
    "    else:\n",
    "        tracklen = np.abs(y[-1]-y[0]) * np.sqrt(1+1/slope2)\n",
    "        sd_tracklen = np.sqrt((1+1/slope2) * (dy[-1]**2+dy[0]**2)\n",
    "                              + (y[-1]-y[0])**2 * 1/(slope4 + slope6)  * sd_slope**2)\n",
    "\n",
    "            \n",
    "    return x, y, dx, dy, myoutput.beta"
   ]
  },
  {
   "cell_type": "code",
   "execution_count": 24,
   "metadata": {
    "collapsed": true
   },
   "outputs": [],
   "source": [
    "# BAM\n",
    "bin_AL = 1\n",
    "bin_AC = 4\n",
    "pixdepth = 38  # depletion zone depth in mum\n",
    "obslist = read_Obslist_fits('../output/TrackObs/BAM/2015/10/31/BAM-OBS1_OBMT_START_63322239313925904.fits')"
   ]
  },
  {
   "cell_type": "code",
   "execution_count": 41,
   "metadata": {
    "collapsed": true
   },
   "outputs": [],
   "source": [
    "#stop = 1\n",
    "stop = 6\n",
    "ngood = 0\n",
    "\n",
    "for obs in obslist:\n",
    "    for ii in range(len(obs.data)):\n",
    "        track = extract_track(obs,ii)\n",
    "        if track.shape[0]>20 and track.shape[1]==4:\n",
    "            ngood += 1\n",
    "            if ngood == stop:\n",
    "                goodtrack = track*obs.gain\n",
    "track = goodtrack\n",
    "\n",
    "x, y, dx, dy, params = angle_linefit_show(track,pixratio = 3*bin_AC/bin_AL)\n",
    "\n",
    "dim0,dim1 = track.shape\n",
    "\n",
    "slope = params[0]\n",
    "ystart = params[1]\n",
    "\n",
    "# set x and y to Gaia chip coordinates - need to adjust ystart accordingly\n",
    "ystart += (dim1-1)/2 *3*bin_AC/bin_AL - slope*(dim0-1)/2\n",
    "\n",
    "x += (dim0-1)/2\n",
    "y += (dim1-1)/2 *3*bin_AC/bin_AL"
   ]
  },
  {
   "cell_type": "code",
   "execution_count": 42,
   "metadata": {},
   "outputs": [
    {
     "data": {
      "image/png": "[encoded data removed]",
      "text/plain": [
       "<matplotlib.figure.Figure at 0x7f0f0aa014a8>"
      ]
     },
     "metadata": {},
     "output_type": "display_data"
    }
   ],
   "source": [
    "fig,axes = plt.subplots(ncols=2)\n",
    "axes[0].imshow(np.flip(np.rot90(track),1)+1,origin='lower',aspect=12,\n",
    "               norm=LogNorm(),cmap='hot',vmin = .5*np.min(track[track>0]),vmax=2*np.max(track))\n",
    "#axes[0].colorbar()\n",
    "axes[0].grid(False)\n",
    "axes[0].tick_params(axis='both',left=False, bottom=False,labelleft=False,labelbottom=False)\n",
    "\n",
    "axes[1].errorbar(x,y,xerr=dx,yerr=dy,linestyle='',color='xkcd:dark gray')\n",
    "axes[1].plot(x,linefunc_m((slope,ystart),x),color='xkcd:purple',linewidth=2)\n",
    "axes[1].invert_xaxis()\n",
    "axes[1].invert_yaxis()\n",
    "axes[1].set_aspect(\"equal\")\n",
    "#axes[1].grid(False)\n",
    "\n",
    "    \n",
    "axes[1].set_xlabel(\"x\")\n",
    "axes[1].set_ylabel(\"y\")\n",
    "axes[1].xaxis.tick_top()\n",
    "axes[1].xaxis.set_label_position('top')\n",
    "axes[1].yaxis.tick_right()\n",
    "axes[1].yaxis.set_label_position('right')\n",
    "\n",
    "\n",
    "\n",
    "fig.set_size_inches(5,4)\n",
    "\n",
    "#fig.savefig(\"../docs/cat_documentation/images/postprocessing/2D_fit.pdf\",bbox_inches='tight')"
   ]
  },
  {
   "cell_type": "markdown",
   "metadata": {},
   "source": [
    "# 2D bad tracks"
   ]
  },
  {
   "cell_type": "code",
   "execution_count": 43,
   "metadata": {
    "collapsed": true
   },
   "outputs": [],
   "source": [
    "#stop = 1\n",
    "stop = 7\n",
    "ngood = 0\n",
    "\n",
    "for obs in obslist:\n",
    "    for ii in range(len(obs.data)):\n",
    "        track = extract_track(obs,ii)\n",
    "        if track.shape[0]>20 and track.shape[1]==2:\n",
    "            ngood += 1\n",
    "            if ngood == stop:\n",
    "                goodtrack = track*obs.gain\n",
    "track = goodtrack\n",
    "\n",
    "x, y, dx, dy, params = angle_linefit_show(track,pixratio = 3*bin_AC/bin_AL)\n",
    "\n",
    "slope = params[0]\n",
    "ystart = params[1]\n",
    "\n",
    "# set x and y to Gaia chip coordinates - need to adjust ystart accordingly\n",
    "ystart += (dim1-1)/2 *3*bin_AC/bin_AL - slope*(dim0-1)/2\n",
    "\n",
    "x += (dim0-1)/2\n",
    "y += (dim1-1)/2 *3*bin_AC/bin_AL"
   ]
  },
  {
   "cell_type": "code",
   "execution_count": 44,
   "metadata": {},
   "outputs": [
    {
     "data": {
      "image/png": "[encoded data removed]",
      "text/plain": [
       "<matplotlib.figure.Figure at 0x7f0f0a8bf438>"
      ]
     },
     "metadata": {},
     "output_type": "display_data"
    }
   ],
   "source": [
    "fig,axes = plt.subplots(ncols=2)\n",
    "\n",
    "axes[0].imshow(np.flip(np.rot90(track),1)+1,origin='lower',aspect=12,\n",
    "               norm=LogNorm(),cmap='hot',vmin = .5*np.min(track[track>0]),vmax=2*np.max(track))\n",
    "#axes[0].colorbar()\n",
    "axes[0].grid(False)\n",
    "axes[0].tick_params(axis='both',left=False, bottom=False,labelleft=False,labelbottom=False)\n",
    "\n",
    "\n",
    "\n",
    "plotx = x - np.min(x)\n",
    "ploty = y - np.min(y)\n",
    "\n",
    "axes[1].errorbar(plotx,ploty,xerr=dx,yerr=dy,linestyle='',color='xkcd:dark gray')\n",
    "\n",
    "# steepest\n",
    "steepslope = (y[0]-y[-1] + 2*dy[0])/(x[0] - x[-1] + 2*dx[0]) * .93\n",
    "steepstart = 18.8\n",
    "axes[1].plot(plotx,linefunc_m((steepslope,steepstart),plotx),label='steepest',color='xkcd:red',linewidth=2)\n",
    "\n",
    "# best fit\n",
    "bestslope = slope\n",
    "beststart = ystart -  (np.min(y) - (bestslope*np.min(x)))\n",
    "axes[1].plot(plotx,linefunc_m((bestslope,beststart),plotx),label='fit',color='xkcd:purple',linewidth=2)\n",
    "\n",
    "# flattest\n",
    "flatslope = -2/20\n",
    "flatstart = 7\n",
    "axes[1].plot(plotx,linefunc_m((flatslope,flatstart),plotx),label='flattest',color='xkcd:blue',linewidth=2)\n",
    "\n",
    "\n",
    "axes[1].invert_xaxis()\n",
    "axes[1].invert_yaxis()\n",
    "axes[1].set_xlabel(\"x\")\n",
    "axes[1].set_ylabel(\"y\")\n",
    "axes[1].xaxis.tick_top()\n",
    "axes[1].xaxis.set_label_position('top')\n",
    "axes[1].yaxis.tick_right()\n",
    "axes[1].yaxis.set_label_position('right')\n",
    "\n",
    "axes[1].set_aspect(\"equal\")\n",
    "axes[1].legend(loc='best')\n",
    "#axes[1].grid(False)\n",
    "\n",
    "\n",
    "fig.set_size_inches(7,4)\n",
    "\n",
    "#plt.savefig(\"../docs/cat_documentation/images/postprocessing/2D_badfit.pdf\",bbox_inches='tight')"
   ]
  }
 ],
 "metadata": {
  "kernelspec": {
   "display_name": "Python 3",
   "language": "python",
   "name": "python3"
  },
  "language_info": {
   "codemirror_mode": {
    "name": "ipython",
    "version": 3
   },
   "file_extension": ".py",
   "mimetype": "text/x-python",
   "name": "python",
   "nbconvert_exporter": "python",
   "pygments_lexer": "ipython3",
   "version": "3.6.1"
  }
 },
 "nbformat": 4,
 "nbformat_minor": 2
}
